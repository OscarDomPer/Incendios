{
 "cells": [
  {
   "cell_type": "markdown",
   "id": "b921341c-9072-49fc-a3e3-0a963540d0f1",
   "metadata": {},
   "source": [
    "------------------------------------------------------------"
   ]
  },
  {
   "cell_type": "markdown",
   "id": "d7a2b39f-fba3-4e6f-9335-46906039659a",
   "metadata": {},
   "source": [
    "CREACIÓN DEL DATASET DE INCENDIOS: ----------------------"
   ]
  },
  {
   "cell_type": "code",
   "execution_count": 1,
   "id": "0149e183-2c15-4596-84a5-89d3ad255cc1",
   "metadata": {
    "tags": []
   },
   "outputs": [],
   "source": [
    "import pandas as pd\n",
    "from geopy.geocoders import Nominatim\n",
    "from tqdm import tqdm"
   ]
  },
  {
   "cell_type": "code",
   "execution_count": 2,
   "id": "1da7825e-c124-42b3-add1-a41bf4ba7011",
   "metadata": {},
   "outputs": [
    {
     "data": {
      "text/plain": [
       "' NO EJECUTAR SI NO QUIERES PASAR 8HORAS ESPERANDO PARA TERMINAR TODO EL PROCESO '"
      ]
     },
     "execution_count": 2,
     "metadata": {},
     "output_type": "execute_result"
    }
   ],
   "source": [
    "\"\"\" NO EJECUTAR SI NO QUIERES PASAR 8HORAS ESPERANDO PARA TERMINAR TODO EL PROCESO \"\"\"\n",
    "\"\"\" NO EJECUTAR SI NO QUIERES PASAR 8HORAS ESPERANDO PARA TERMINAR TODO EL PROCESO \"\"\"\n",
    "\"\"\" NO EJECUTAR SI NO QUIERES PASAR 8HORAS ESPERANDO PARA TERMINAR TODO EL PROCESO \"\"\"\n",
    "\"\"\" NO EJECUTAR SI NO QUIERES PASAR 8HORAS ESPERANDO PARA TERMINAR TODO EL PROCESO \"\"\"\n",
    "\"\"\" NO EJECUTAR SI NO QUIERES PASAR 8HORAS ESPERANDO PARA TERMINAR TODO EL PROCESO \"\"\"\n",
    "\"\"\" NO EJECUTAR SI NO QUIERES PASAR 8HORAS ESPERANDO PARA TERMINAR TODO EL PROCESO \"\"\"\n",
    "\"\"\" NO EJECUTAR SI NO QUIERES PASAR 8HORAS ESPERANDO PARA TERMINAR TODO EL PROCESO \"\"\"\n",
    "\"\"\" NO EJECUTAR SI NO QUIERES PASAR 8HORAS ESPERANDO PARA TERMINAR TODO EL PROCESO \"\"\"\n",
    "\"\"\" NO EJECUTAR SI NO QUIERES PASAR 8HORAS ESPERANDO PARA TERMINAR TODO EL PROCESO \"\"\"\n",
    "\"\"\" NO EJECUTAR SI NO QUIERES PASAR 8HORAS ESPERANDO PARA TERMINAR TODO EL PROCESO \"\"\"\n",
    "\"\"\" NO EJECUTAR SI NO QUIERES PASAR 8HORAS ESPERANDO PARA TERMINAR TODO EL PROCESO \"\"\"\n",
    "\"\"\" NO EJECUTAR SI NO QUIERES PASAR 8HORAS ESPERANDO PARA TERMINAR TODO EL PROCESO \"\"\"\n",
    "\"\"\" NO EJECUTAR SI NO QUIERES PASAR 8HORAS ESPERANDO PARA TERMINAR TODO EL PROCESO \"\"\"\n",
    "\"\"\" NO EJECUTAR SI NO QUIERES PASAR 8HORAS ESPERANDO PARA TERMINAR TODO EL PROCESO \"\"\"\n",
    "\"\"\" NO EJECUTAR SI NO QUIERES PASAR 8HORAS ESPERANDO PARA TERMINAR TODO EL PROCESO \"\"\""
   ]
  },
  {
   "cell_type": "code",
   "execution_count": 3,
   "id": "0a4a3c89-7e26-4a3f-8da8-e4a5f655cc58",
   "metadata": {
    "tags": []
   },
   "outputs": [
    {
     "name": "stderr",
     "output_type": "stream",
     "text": [
      "Cargando datos: 100%|██████████| 16/16 [00:00<00:00, 105.72it/s]"
     ]
    },
    {
     "name": "stdout",
     "output_type": "stream",
     "text": [
      "Archivo Data/data_original_fuegos_spain_2000_2023/modis_2008_Spain.csv cargado: 3003 filas.\n",
      "Archivo Data/data_original_fuegos_spain_2000_2023/modis_2009_Spain.csv cargado: 4623 filas.\n",
      "Archivo Data/data_original_fuegos_spain_2000_2023/modis_2010_Spain.csv cargado: 2708 filas.\n",
      "Archivo Data/data_original_fuegos_spain_2000_2023/modis_2011_Spain.csv cargado: 5453 filas.\n",
      "Archivo Data/data_original_fuegos_spain_2000_2023/modis_2012_Spain.csv cargado: 6185 filas.\n",
      "Archivo Data/data_original_fuegos_spain_2000_2023/modis_2013_Spain.csv cargado: 3453 filas.\n",
      "Archivo Data/data_original_fuegos_spain_2000_2023/modis_2014_Spain.csv cargado: 2603 filas.\n",
      "Archivo Data/data_original_fuegos_spain_2000_2023/modis_2015_Spain.csv cargado: 3174 filas.\n",
      "Archivo Data/data_original_fuegos_spain_2000_2023/modis_2016_Spain.csv cargado: 3211 filas.\n",
      "Archivo Data/data_original_fuegos_spain_2000_2023/modis_2017_Spain.csv cargado: 5183 filas.\n",
      "Archivo Data/data_original_fuegos_spain_2000_2023/modis_2018_Spain.csv cargado: 1681 filas.\n",
      "Archivo Data/data_original_fuegos_spain_2000_2023/modis_2019_Spain.csv cargado: 3300 filas.\n",
      "Archivo Data/data_original_fuegos_spain_2000_2023/modis_2020_Spain.csv cargado: 2602 filas.\n",
      "Archivo Data/data_original_fuegos_spain_2000_2023/modis_2021_Spain.csv cargado: 4725 filas.\n",
      "Archivo Data/data_original_fuegos_spain_2000_2023/modis_2022_Spain.csv cargado: 5925 filas.\n",
      "Archivo Data/data_original_fuegos_spain_2000_2023/modis_2023_Spain.csv cargado: 2707 filas.\n",
      "DataFrame concatenado creado: 60536 filas.\n"
     ]
    },
    {
     "name": "stderr",
     "output_type": "stream",
     "text": [
      "\n"
     ]
    }
   ],
   "source": [
    "# Carga y concatenación de archivos de datos anuales\n",
    "archivos = [f\"Data/data_original_fuegos_spain_2000_2023/modis_{year}_Spain.csv\" for year in range(2008, 2024)]\n",
    "dataframes = []\n",
    "for archivo in tqdm(archivos, desc=\"Cargando datos\"):\n",
    "    df = pd.read_csv(archivo)\n",
    "    dataframes.append(df)\n",
    "    print(f\"Archivo {archivo} cargado: {df.shape[0]} filas.\")\n",
    "df = pd.concat(dataframes, ignore_index=True)\n",
    "print(f\"DataFrame concatenado creado: {df.shape[0]} filas.\")\n"
   ]
  },
  {
   "cell_type": "code",
   "execution_count": 4,
   "id": "dfd0420b-a772-4930-a36f-222a7bc9b6b5",
   "metadata": {
    "tags": []
   },
   "outputs": [
    {
     "name": "stdout",
     "output_type": "stream",
     "text": [
      "DataFrame concatenado guardado en 'Data/Data_Fires.csv'.\n"
     ]
    }
   ],
   "source": [
    "# Guardar el DataFrame concatenado\n",
    "df.to_csv('Data/Data_Fires.csv', index=False)\n",
    "print(\"DataFrame concatenado guardado en 'Data/Data_Fires.csv'.\")\n"
   ]
  },
  {
   "cell_type": "code",
   "execution_count": 5,
   "id": "df293ab6-fc3e-4e3a-ab86-e180734ce83e",
   "metadata": {
    "tags": []
   },
   "outputs": [
    {
     "name": "stdout",
     "output_type": "stream",
     "text": [
      "Archivo no encontrado. Empezando desde el principio.\n",
      "Cache de geolocalización cargado.\n"
     ]
    },
    {
     "name": "stderr",
     "output_type": "stream",
     "text": [
      "Geolocalización inversa:   0%|          | 0/60536 [00:00<?, ?it/s]"
     ]
    },
    {
     "name": "stdout",
     "output_type": "stream",
     "text": [
      "Error al obtener la geolocalización: HTTPSConnectionPool(host='nominatim.openstreetmap.org', port=443): Max retries exceeded with url: /reverse?lat=43.5265&lon=-5.734&format=json&addressdetails=1 (Caused by ConnectTimeoutError(<urllib3.connection.HTTPSConnection object at 0x126949010>, 'Connection to nominatim.openstreetmap.org timed out. (connect timeout=1)'))\n"
     ]
    },
    {
     "name": "stderr",
     "output_type": "stream",
     "text": [
      "Geolocalización inversa:   0%|          | 1/60536 [00:03<61:34:31,  3.66s/it]"
     ]
    },
    {
     "name": "stdout",
     "output_type": "stream",
     "text": [
      "Datos y cache guardados hasta la fila 0.\n"
     ]
    },
    {
     "name": "stderr",
     "output_type": "stream",
     "text": [
      "Geolocalización inversa:   2%|▏         | 1002/60536 [08:33<9:02:01,  1.83it/s] "
     ]
    },
    {
     "name": "stdout",
     "output_type": "stream",
     "text": [
      "Datos y cache guardados hasta la fila 1000.\n"
     ]
    },
    {
     "name": "stderr",
     "output_type": "stream",
     "text": [
      "Geolocalización inversa:   5%|▍         | 2815/60536 [17:02<02:01, 473.92it/s]  "
     ]
    },
    {
     "name": "stdout",
     "output_type": "stream",
     "text": [
      "Datos y cache guardados hasta la fila 2000.\n",
      "Datos y cache guardados hasta la fila 3000.\n"
     ]
    },
    {
     "name": "stderr",
     "output_type": "stream",
     "text": [
      "Geolocalización inversa:   7%|▋         | 4002/60536 [25:25<8:04:56,  1.94it/s] "
     ]
    },
    {
     "name": "stdout",
     "output_type": "stream",
     "text": [
      "Datos y cache guardados hasta la fila 4000.\n"
     ]
    },
    {
     "name": "stderr",
     "output_type": "stream",
     "text": [
      "Geolocalización inversa:   8%|▊         | 5001/60536 [33:46<10:03:15,  1.53it/s]"
     ]
    },
    {
     "name": "stdout",
     "output_type": "stream",
     "text": [
      "Datos y cache guardados hasta la fila 5000.\n"
     ]
    },
    {
     "name": "stderr",
     "output_type": "stream",
     "text": [
      "Geolocalización inversa:  10%|▉         | 5960/60536 [41:56<19:36:53,  1.29s/it]"
     ]
    },
    {
     "name": "stdout",
     "output_type": "stream",
     "text": [
      "Error al obtener la geolocalización: HTTPSConnectionPool(host='nominatim.openstreetmap.org', port=443): Max retries exceeded with url: /reverse?lat=41.2824&lon=1.7105&format=json&addressdetails=1 (Caused by ConnectTimeoutError(<urllib3.connection.HTTPSConnection object at 0x126c91390>, 'Connection to nominatim.openstreetmap.org timed out. (connect timeout=1)'))\n"
     ]
    },
    {
     "name": "stderr",
     "output_type": "stream",
     "text": [
      "Geolocalización inversa:  10%|▉         | 5961/60536 [41:59<27:44:56,  1.83s/it]"
     ]
    },
    {
     "name": "stdout",
     "output_type": "stream",
     "text": [
      "Error al obtener la geolocalización: HTTPSConnectionPool(host='nominatim.openstreetmap.org', port=443): Max retries exceeded with url: /reverse?lat=40.3174&lon=-5.088&format=json&addressdetails=1 (Caused by ConnectTimeoutError(<urllib3.connection.HTTPSConnection object at 0x126c92910>, 'Connection to nominatim.openstreetmap.org timed out. (connect timeout=1)'))\n"
     ]
    },
    {
     "name": "stderr",
     "output_type": "stream",
     "text": [
      "Geolocalización inversa:  10%|▉         | 5962/60536 [42:02<33:12:56,  2.19s/it]"
     ]
    },
    {
     "name": "stdout",
     "output_type": "stream",
     "text": [
      "Error al obtener la geolocalización: HTTPSConnectionPool(host='nominatim.openstreetmap.org', port=443): Max retries exceeded with url: /reverse?lat=40.2996&lon=-5.0515&format=json&addressdetails=1 (Caused by ConnectTimeoutError(<urllib3.connection.HTTPSConnection object at 0x126c4f610>, 'Connection to nominatim.openstreetmap.org timed out. (connect timeout=1)'))\n"
     ]
    },
    {
     "name": "stderr",
     "output_type": "stream",
     "text": [
      "Geolocalización inversa:  10%|▉         | 5963/60536 [42:05<36:58:23,  2.44s/it]"
     ]
    },
    {
     "name": "stdout",
     "output_type": "stream",
     "text": [
      "Error al obtener la geolocalización: HTTPSConnectionPool(host='nominatim.openstreetmap.org', port=443): Max retries exceeded with url: /reverse?lat=40.3086&lon=-5.0512&format=json&addressdetails=1 (Caused by ConnectTimeoutError(<urllib3.connection.HTTPSConnection object at 0x126af2ed0>, 'Connection to nominatim.openstreetmap.org timed out. (connect timeout=1)'))\n"
     ]
    },
    {
     "name": "stderr",
     "output_type": "stream",
     "text": [
      "Geolocalización inversa:  10%|▉         | 5964/60536 [42:08<39:56:18,  2.63s/it]"
     ]
    },
    {
     "name": "stdout",
     "output_type": "stream",
     "text": [
      "Error al obtener la geolocalización: HTTPSConnectionPool(host='nominatim.openstreetmap.org', port=443): Max retries exceeded with url: /reverse?lat=40.3104&lon=-5.093&format=json&addressdetails=1 (Caused by ConnectTimeoutError(<urllib3.connection.HTTPSConnection object at 0x126d3ba90>, 'Connection to nominatim.openstreetmap.org timed out. (connect timeout=1)'))\n"
     ]
    },
    {
     "name": "stderr",
     "output_type": "stream",
     "text": [
      "Geolocalización inversa:  10%|▉         | 5965/60536 [42:11<41:39:01,  2.75s/it]"
     ]
    },
    {
     "name": "stdout",
     "output_type": "stream",
     "text": [
      "Error al obtener la geolocalización: HTTPSConnectionPool(host='nominatim.openstreetmap.org', port=443): Max retries exceeded with url: /reverse?lat=40.3157&lon=-5.0441&format=json&addressdetails=1 (Caused by ConnectTimeoutError(<urllib3.connection.HTTPSConnection object at 0x126bab050>, 'Connection to nominatim.openstreetmap.org timed out. (connect timeout=1)'))\n"
     ]
    },
    {
     "name": "stderr",
     "output_type": "stream",
     "text": [
      "Geolocalización inversa:  10%|▉         | 5966/60536 [42:14<42:52:38,  2.83s/it]"
     ]
    },
    {
     "name": "stdout",
     "output_type": "stream",
     "text": [
      "Error al obtener la geolocalización: HTTPSConnectionPool(host='nominatim.openstreetmap.org', port=443): Max retries exceeded with url: /reverse?lat=40.325&lon=-5.0517&format=json&addressdetails=1 (Caused by ConnectTimeoutError(<urllib3.connection.HTTPSConnection object at 0x126c28910>, 'Connection to nominatim.openstreetmap.org timed out. (connect timeout=1)'))\n"
     ]
    },
    {
     "name": "stderr",
     "output_type": "stream",
     "text": [
      "Geolocalización inversa:  10%|▉         | 5967/60536 [42:17<43:43:46,  2.88s/it]"
     ]
    },
    {
     "name": "stdout",
     "output_type": "stream",
     "text": [
      "Error al obtener la geolocalización: HTTPSConnectionPool(host='nominatim.openstreetmap.org', port=443): Max retries exceeded with url: /reverse?lat=40.3322&lon=-5.0609&format=json&addressdetails=1 (Caused by ConnectTimeoutError(<urllib3.connection.HTTPSConnection object at 0x126d36390>, 'Connection to nominatim.openstreetmap.org timed out. (connect timeout=1)'))\n"
     ]
    },
    {
     "name": "stderr",
     "output_type": "stream",
     "text": [
      "Geolocalización inversa:  10%|▉         | 5968/60536 [42:20<44:22:19,  2.93s/it]"
     ]
    },
    {
     "name": "stdout",
     "output_type": "stream",
     "text": [
      "Error al obtener la geolocalización: HTTPSConnectionPool(host='nominatim.openstreetmap.org', port=443): Max retries exceeded with url: /reverse?lat=40.3176&lon=-5.0715&format=json&addressdetails=1 (Caused by ConnectTimeoutError(<urllib3.connection.HTTPSConnection object at 0x126d3b990>, 'Connection to nominatim.openstreetmap.org timed out. (connect timeout=1)'))\n"
     ]
    },
    {
     "name": "stderr",
     "output_type": "stream",
     "text": [
      "Geolocalización inversa:  10%|▉         | 5969/60536 [42:23<44:47:29,  2.96s/it]"
     ]
    },
    {
     "name": "stdout",
     "output_type": "stream",
     "text": [
      "Error al obtener la geolocalización: HTTPSConnectionPool(host='nominatim.openstreetmap.org', port=443): Max retries exceeded with url: /reverse?lat=40.298&lon=-5.0285&format=json&addressdetails=1 (Caused by ConnectTimeoutError(<urllib3.connection.HTTPSConnection object at 0x126d7bc10>, 'Connection to nominatim.openstreetmap.org timed out. (connect timeout=1)'))\n"
     ]
    },
    {
     "name": "stderr",
     "output_type": "stream",
     "text": [
      "Geolocalización inversa:  10%|▉         | 5970/60536 [42:26<45:04:22,  2.97s/it]"
     ]
    },
    {
     "name": "stdout",
     "output_type": "stream",
     "text": [
      "Error al obtener la geolocalización: HTTPSConnectionPool(host='nominatim.openstreetmap.org', port=443): Max retries exceeded with url: /reverse?lat=40.3152&lon=-5.0279&format=json&addressdetails=1 (Caused by ConnectTimeoutError(<urllib3.connection.HTTPSConnection object at 0x126c90a10>, 'Connection to nominatim.openstreetmap.org timed out. (connect timeout=1)'))\n"
     ]
    },
    {
     "name": "stderr",
     "output_type": "stream",
     "text": [
      "Geolocalización inversa:  10%|▉         | 6001/60536 [42:44<11:21:42,  1.33it/s]"
     ]
    },
    {
     "name": "stdout",
     "output_type": "stream",
     "text": [
      "Datos y cache guardados hasta la fila 6000.\n"
     ]
    },
    {
     "name": "stderr",
     "output_type": "stream",
     "text": [
      "Geolocalización inversa:  12%|█▏        | 7002/60536 [51:13<8:26:43,  1.76it/s] "
     ]
    },
    {
     "name": "stdout",
     "output_type": "stream",
     "text": [
      "Datos y cache guardados hasta la fila 7000.\n"
     ]
    },
    {
     "name": "stderr",
     "output_type": "stream",
     "text": [
      "Geolocalización inversa:  13%|█▎        | 8002/60536 [59:37<7:20:55,  1.99it/s] "
     ]
    },
    {
     "name": "stdout",
     "output_type": "stream",
     "text": [
      "Datos y cache guardados hasta la fila 8000.\n"
     ]
    },
    {
     "name": "stderr",
     "output_type": "stream",
     "text": [
      "Geolocalización inversa:  15%|█▍        | 9002/60536 [1:08:32<7:10:53,  1.99it/s] "
     ]
    },
    {
     "name": "stdout",
     "output_type": "stream",
     "text": [
      "Datos y cache guardados hasta la fila 9000.\n"
     ]
    },
    {
     "name": "stderr",
     "output_type": "stream",
     "text": [
      "Geolocalización inversa:  17%|█▋        | 10001/60536 [1:17:10<10:19:02,  1.36it/s]"
     ]
    },
    {
     "name": "stdout",
     "output_type": "stream",
     "text": [
      "Datos y cache guardados hasta la fila 10000.\n"
     ]
    },
    {
     "name": "stderr",
     "output_type": "stream",
     "text": [
      "Geolocalización inversa:  18%|█▊        | 11002/60536 [1:25:34<6:44:31,  2.04it/s] "
     ]
    },
    {
     "name": "stdout",
     "output_type": "stream",
     "text": [
      "Datos y cache guardados hasta la fila 11000.\n"
     ]
    },
    {
     "name": "stderr",
     "output_type": "stream",
     "text": [
      "Geolocalización inversa:  20%|█▉        | 12002/60536 [1:34:03<6:26:49,  2.09it/s] "
     ]
    },
    {
     "name": "stdout",
     "output_type": "stream",
     "text": [
      "Datos y cache guardados hasta la fila 12000.\n"
     ]
    },
    {
     "name": "stderr",
     "output_type": "stream",
     "text": [
      "Geolocalización inversa:  21%|██▏       | 13002/60536 [1:42:34<7:05:26,  1.86it/s] "
     ]
    },
    {
     "name": "stdout",
     "output_type": "stream",
     "text": [
      "Datos y cache guardados hasta la fila 13000.\n"
     ]
    },
    {
     "name": "stderr",
     "output_type": "stream",
     "text": [
      "Geolocalización inversa:  23%|██▎       | 14002/60536 [1:51:04<6:38:02,  1.95it/s]"
     ]
    },
    {
     "name": "stdout",
     "output_type": "stream",
     "text": [
      "Datos y cache guardados hasta la fila 14000.\n"
     ]
    },
    {
     "name": "stderr",
     "output_type": "stream",
     "text": [
      "Geolocalización inversa:  25%|██▍       | 15002/60536 [1:59:32<6:23:17,  1.98it/s] "
     ]
    },
    {
     "name": "stdout",
     "output_type": "stream",
     "text": [
      "Datos y cache guardados hasta la fila 15000.\n"
     ]
    },
    {
     "name": "stderr",
     "output_type": "stream",
     "text": [
      "Geolocalización inversa:  26%|██▋       | 16002/60536 [2:07:52<6:03:34,  2.04it/s]"
     ]
    },
    {
     "name": "stdout",
     "output_type": "stream",
     "text": [
      "Datos y cache guardados hasta la fila 16000.\n"
     ]
    },
    {
     "name": "stderr",
     "output_type": "stream",
     "text": [
      "Geolocalización inversa:  28%|██▊       | 17002/60536 [2:16:17<6:31:48,  1.85it/s]"
     ]
    },
    {
     "name": "stdout",
     "output_type": "stream",
     "text": [
      "Datos y cache guardados hasta la fila 17000.\n"
     ]
    },
    {
     "name": "stderr",
     "output_type": "stream",
     "text": [
      "Geolocalización inversa:  30%|██▉       | 18002/60536 [2:24:42<5:45:13,  2.05it/s] "
     ]
    },
    {
     "name": "stdout",
     "output_type": "stream",
     "text": [
      "Datos y cache guardados hasta la fila 18000.\n"
     ]
    },
    {
     "name": "stderr",
     "output_type": "stream",
     "text": [
      "Geolocalización inversa:  31%|███▏      | 19002/60536 [2:33:22<5:39:30,  2.04it/s] "
     ]
    },
    {
     "name": "stdout",
     "output_type": "stream",
     "text": [
      "Datos y cache guardados hasta la fila 19000.\n"
     ]
    },
    {
     "name": "stderr",
     "output_type": "stream",
     "text": [
      "Geolocalización inversa:  33%|███▎      | 20001/60536 [2:41:50<7:21:03,  1.53it/s]"
     ]
    },
    {
     "name": "stdout",
     "output_type": "stream",
     "text": [
      "Datos y cache guardados hasta la fila 20000.\n"
     ]
    },
    {
     "name": "stderr",
     "output_type": "stream",
     "text": [
      "Geolocalización inversa:  35%|███▍      | 21001/60536 [2:50:12<7:05:31,  1.55it/s]"
     ]
    },
    {
     "name": "stdout",
     "output_type": "stream",
     "text": [
      "Datos y cache guardados hasta la fila 21000.\n"
     ]
    },
    {
     "name": "stderr",
     "output_type": "stream",
     "text": [
      "Geolocalización inversa:  36%|███▋      | 22002/60536 [2:58:35<5:37:57,  1.90it/s]"
     ]
    },
    {
     "name": "stdout",
     "output_type": "stream",
     "text": [
      "Datos y cache guardados hasta la fila 22000.\n"
     ]
    },
    {
     "name": "stderr",
     "output_type": "stream",
     "text": [
      "Geolocalización inversa:  38%|███▊      | 23002/60536 [3:06:57<5:07:16,  2.04it/s]"
     ]
    },
    {
     "name": "stdout",
     "output_type": "stream",
     "text": [
      "Datos y cache guardados hasta la fila 23000.\n"
     ]
    },
    {
     "name": "stderr",
     "output_type": "stream",
     "text": [
      "Geolocalización inversa:  39%|███▉      | 23531/60536 [3:11:27<13:03:05,  1.27s/it]"
     ]
    },
    {
     "name": "stdout",
     "output_type": "stream",
     "text": [
      "Error al obtener la geolocalización: HTTPSConnectionPool(host='nominatim.openstreetmap.org', port=443): Max retries exceeded with url: /reverse?lat=41.9225&lon=-7.5865&format=json&addressdetails=1 (Caused by ConnectTimeoutError(<urllib3.connection.HTTPSConnection object at 0x1271843d0>, 'Connection to nominatim.openstreetmap.org timed out. (connect timeout=1)'))\n"
     ]
    },
    {
     "name": "stderr",
     "output_type": "stream",
     "text": [
      "Geolocalización inversa:  39%|███▉      | 23532/60536 [3:11:30<18:26:01,  1.79s/it]"
     ]
    },
    {
     "name": "stdout",
     "output_type": "stream",
     "text": [
      "Error al obtener la geolocalización: HTTPSConnectionPool(host='nominatim.openstreetmap.org', port=443): Max retries exceeded with url: /reverse?lat=42.5263&lon=-6.9904&format=json&addressdetails=1 (Caused by ConnectTimeoutError(<urllib3.connection.HTTPSConnection object at 0x127184250>, 'Connection to nominatim.openstreetmap.org timed out. (connect timeout=1)'))\n"
     ]
    },
    {
     "name": "stderr",
     "output_type": "stream",
     "text": [
      "Geolocalización inversa:  40%|███▉      | 24002/60536 [3:15:29<5:13:32,  1.94it/s] "
     ]
    },
    {
     "name": "stdout",
     "output_type": "stream",
     "text": [
      "Datos y cache guardados hasta la fila 24000.\n"
     ]
    },
    {
     "name": "stderr",
     "output_type": "stream",
     "text": [
      "Geolocalización inversa:  41%|████▏     | 25002/60536 [3:23:52<5:05:30,  1.94it/s]"
     ]
    },
    {
     "name": "stdout",
     "output_type": "stream",
     "text": [
      "Datos y cache guardados hasta la fila 25000.\n"
     ]
    },
    {
     "name": "stderr",
     "output_type": "stream",
     "text": [
      "Geolocalización inversa:  43%|████▎     | 26001/60536 [3:32:14<6:20:33,  1.51it/s]"
     ]
    },
    {
     "name": "stdout",
     "output_type": "stream",
     "text": [
      "Datos y cache guardados hasta la fila 26000.\n"
     ]
    },
    {
     "name": "stderr",
     "output_type": "stream",
     "text": [
      "Geolocalización inversa:  45%|████▍     | 27002/60536 [3:40:36<4:37:03,  2.02it/s]"
     ]
    },
    {
     "name": "stdout",
     "output_type": "stream",
     "text": [
      "Datos y cache guardados hasta la fila 27000.\n"
     ]
    },
    {
     "name": "stderr",
     "output_type": "stream",
     "text": [
      "Geolocalización inversa:  46%|████▋     | 28002/60536 [3:49:04<4:51:15,  1.86it/s]"
     ]
    },
    {
     "name": "stdout",
     "output_type": "stream",
     "text": [
      "Datos y cache guardados hasta la fila 28000.\n"
     ]
    },
    {
     "name": "stderr",
     "output_type": "stream",
     "text": [
      "Geolocalización inversa:  48%|████▊     | 29002/60536 [3:57:29<4:23:22,  2.00it/s]"
     ]
    },
    {
     "name": "stdout",
     "output_type": "stream",
     "text": [
      "Datos y cache guardados hasta la fila 29000.\n"
     ]
    },
    {
     "name": "stderr",
     "output_type": "stream",
     "text": [
      "Geolocalización inversa:  50%|████▉     | 30002/60536 [4:05:49<4:26:53,  1.91it/s]"
     ]
    },
    {
     "name": "stdout",
     "output_type": "stream",
     "text": [
      "Datos y cache guardados hasta la fila 30000.\n"
     ]
    },
    {
     "name": "stderr",
     "output_type": "stream",
     "text": [
      "Geolocalización inversa:  51%|█████     | 31002/60536 [4:14:11<4:05:19,  2.01it/s]"
     ]
    },
    {
     "name": "stdout",
     "output_type": "stream",
     "text": [
      "Datos y cache guardados hasta la fila 31000.\n"
     ]
    },
    {
     "name": "stderr",
     "output_type": "stream",
     "text": [
      "Geolocalización inversa:  53%|█████▎    | 32002/60536 [4:22:34<4:01:55,  1.97it/s]"
     ]
    },
    {
     "name": "stdout",
     "output_type": "stream",
     "text": [
      "Datos y cache guardados hasta la fila 32000.\n"
     ]
    },
    {
     "name": "stderr",
     "output_type": "stream",
     "text": [
      "Geolocalización inversa:  53%|█████▎    | 32377/60536 [4:25:49<12:01:15,  1.54s/it]"
     ]
    },
    {
     "name": "stdout",
     "output_type": "stream",
     "text": [
      "Error al obtener la geolocalización: HTTPSConnectionPool(host='nominatim.openstreetmap.org', port=443): Max retries exceeded with url: /reverse?lat=43.2725&lon=-7.4737&format=json&addressdetails=1 (Caused by ConnectTimeoutError(<urllib3.connection.HTTPSConnection object at 0x1272842d0>, 'Connection to nominatim.openstreetmap.org timed out. (connect timeout=1)'))\n"
     ]
    },
    {
     "name": "stderr",
     "output_type": "stream",
     "text": [
      "Geolocalización inversa:  53%|█████▎    | 32378/60536 [4:25:52<15:30:08,  1.98s/it]"
     ]
    },
    {
     "name": "stdout",
     "output_type": "stream",
     "text": [
      "Error al obtener la geolocalización: HTTPSConnectionPool(host='nominatim.openstreetmap.org', port=443): Max retries exceeded with url: /reverse?lat=40.303&lon=-4.9004&format=json&addressdetails=1 (Caused by ConnectTimeoutError(<urllib3.connection.HTTPSConnection object at 0x127286290>, 'Connection to nominatim.openstreetmap.org timed out. (connect timeout=1)'))\n"
     ]
    },
    {
     "name": "stderr",
     "output_type": "stream",
     "text": [
      "Geolocalización inversa:  53%|█████▎    | 32379/60536 [4:25:55<17:55:07,  2.29s/it]"
     ]
    },
    {
     "name": "stdout",
     "output_type": "stream",
     "text": [
      "Error al obtener la geolocalización: HTTPSConnectionPool(host='nominatim.openstreetmap.org', port=443): Max retries exceeded with url: /reverse?lat=38.4121&lon=-6.9612&format=json&addressdetails=1 (Caused by ConnectTimeoutError(<urllib3.connection.HTTPSConnection object at 0x12744f190>, 'Connection to nominatim.openstreetmap.org timed out. (connect timeout=1)'))\n"
     ]
    },
    {
     "name": "stderr",
     "output_type": "stream",
     "text": [
      "Geolocalización inversa:  53%|█████▎    | 32380/60536 [4:25:59<20:28:51,  2.62s/it]"
     ]
    },
    {
     "name": "stdout",
     "output_type": "stream",
     "text": [
      "Error al obtener la geolocalización: HTTPSConnectionPool(host='nominatim.openstreetmap.org', port=443): Max retries exceeded with url: /reverse?lat=39.9118&lon=-5.5099&format=json&addressdetails=1 (Caused by ConnectTimeoutError(<urllib3.connection.HTTPSConnection object at 0x127406c10>, 'Connection to nominatim.openstreetmap.org timed out. (connect timeout=1)'))\n"
     ]
    },
    {
     "name": "stderr",
     "output_type": "stream",
     "text": [
      "Geolocalización inversa:  53%|█████▎    | 32381/60536 [4:26:02<21:23:43,  2.74s/it]"
     ]
    },
    {
     "name": "stdout",
     "output_type": "stream",
     "text": [
      "Error al obtener la geolocalización: HTTPSConnectionPool(host='nominatim.openstreetmap.org', port=443): Max retries exceeded with url: /reverse?lat=39.8976&lon=-5.5208&format=json&addressdetails=1 (Caused by ConnectTimeoutError(<urllib3.connection.HTTPSConnection object at 0x1271ce150>, 'Connection to nominatim.openstreetmap.org timed out. (connect timeout=1)'))\n"
     ]
    },
    {
     "name": "stderr",
     "output_type": "stream",
     "text": [
      "Geolocalización inversa:  53%|█████▎    | 32382/60536 [4:26:05<22:07:06,  2.83s/it]"
     ]
    },
    {
     "name": "stdout",
     "output_type": "stream",
     "text": [
      "Error al obtener la geolocalización: HTTPSConnectionPool(host='nominatim.openstreetmap.org', port=443): Max retries exceeded with url: /reverse?lat=39.9059&lon=-5.5493&format=json&addressdetails=1 (Caused by ConnectTimeoutError(<urllib3.connection.HTTPSConnection object at 0x127447d10>, 'Connection to nominatim.openstreetmap.org timed out. (connect timeout=1)'))\n"
     ]
    },
    {
     "name": "stderr",
     "output_type": "stream",
     "text": [
      "Geolocalización inversa:  53%|█████▎    | 32383/60536 [4:26:08<22:35:26,  2.89s/it]"
     ]
    },
    {
     "name": "stdout",
     "output_type": "stream",
     "text": [
      "Error al obtener la geolocalización: HTTPSConnectionPool(host='nominatim.openstreetmap.org', port=443): Max retries exceeded with url: /reverse?lat=42.8055&lon=-8.7296&format=json&addressdetails=1 (Caused by ConnectTimeoutError(<urllib3.connection.HTTPSConnection object at 0x127448650>, 'Connection to nominatim.openstreetmap.org timed out. (connect timeout=1)'))\n"
     ]
    },
    {
     "name": "stderr",
     "output_type": "stream",
     "text": [
      "Geolocalización inversa:  53%|█████▎    | 32384/60536 [4:26:11<22:53:51,  2.93s/it]"
     ]
    },
    {
     "name": "stdout",
     "output_type": "stream",
     "text": [
      "Error al obtener la geolocalización: HTTPSConnectionPool(host='nominatim.openstreetmap.org', port=443): Max retries exceeded with url: /reverse?lat=42.8033&lon=-8.7235&format=json&addressdetails=1 (Caused by ConnectTimeoutError(<urllib3.connection.HTTPSConnection object at 0x127445f50>, 'Connection to nominatim.openstreetmap.org timed out. (connect timeout=1)'))\n"
     ]
    },
    {
     "name": "stderr",
     "output_type": "stream",
     "text": [
      "Geolocalización inversa:  55%|█████▍    | 33001/60536 [4:31:38<5:28:39,  1.40it/s] "
     ]
    },
    {
     "name": "stdout",
     "output_type": "stream",
     "text": [
      "Datos y cache guardados hasta la fila 33000.\n"
     ]
    },
    {
     "name": "stderr",
     "output_type": "stream",
     "text": [
      "Geolocalización inversa:  56%|█████▌    | 34002/60536 [4:40:07<3:51:49,  1.91it/s]"
     ]
    },
    {
     "name": "stdout",
     "output_type": "stream",
     "text": [
      "Datos y cache guardados hasta la fila 34000.\n"
     ]
    },
    {
     "name": "stderr",
     "output_type": "stream",
     "text": [
      "Geolocalización inversa:  58%|█████▊    | 35002/60536 [4:48:26<3:39:00,  1.94it/s]"
     ]
    },
    {
     "name": "stdout",
     "output_type": "stream",
     "text": [
      "Datos y cache guardados hasta la fila 35000.\n"
     ]
    },
    {
     "name": "stderr",
     "output_type": "stream",
     "text": [
      "Geolocalización inversa:  59%|█████▉    | 36001/60536 [4:56:49<4:55:56,  1.38it/s]"
     ]
    },
    {
     "name": "stdout",
     "output_type": "stream",
     "text": [
      "Datos y cache guardados hasta la fila 36000.\n"
     ]
    },
    {
     "name": "stderr",
     "output_type": "stream",
     "text": [
      "Geolocalización inversa:  61%|██████    | 37001/60536 [5:05:09<4:49:04,  1.36it/s]"
     ]
    },
    {
     "name": "stdout",
     "output_type": "stream",
     "text": [
      "Datos y cache guardados hasta la fila 37000.\n"
     ]
    },
    {
     "name": "stderr",
     "output_type": "stream",
     "text": [
      "Geolocalización inversa:  63%|██████▎   | 38001/60536 [5:13:33<4:09:02,  1.51it/s]"
     ]
    },
    {
     "name": "stdout",
     "output_type": "stream",
     "text": [
      "Datos y cache guardados hasta la fila 38000.\n"
     ]
    },
    {
     "name": "stderr",
     "output_type": "stream",
     "text": [
      "Geolocalización inversa:  64%|██████▍   | 39002/60536 [5:22:05<3:08:07,  1.91it/s]"
     ]
    },
    {
     "name": "stdout",
     "output_type": "stream",
     "text": [
      "Datos y cache guardados hasta la fila 39000.\n"
     ]
    },
    {
     "name": "stderr",
     "output_type": "stream",
     "text": [
      "Geolocalización inversa:  66%|██████▌   | 40001/60536 [5:30:36<4:26:59,  1.28it/s]"
     ]
    },
    {
     "name": "stdout",
     "output_type": "stream",
     "text": [
      "Datos y cache guardados hasta la fila 40000.\n"
     ]
    },
    {
     "name": "stderr",
     "output_type": "stream",
     "text": [
      "Geolocalización inversa:  68%|██████▊   | 41002/60536 [5:39:06<3:00:36,  1.80it/s]"
     ]
    },
    {
     "name": "stdout",
     "output_type": "stream",
     "text": [
      "Datos y cache guardados hasta la fila 41000.\n"
     ]
    },
    {
     "name": "stderr",
     "output_type": "stream",
     "text": [
      "Geolocalización inversa:  69%|██████▉   | 42002/60536 [5:47:30<2:46:55,  1.85it/s]"
     ]
    },
    {
     "name": "stdout",
     "output_type": "stream",
     "text": [
      "Datos y cache guardados hasta la fila 42000.\n"
     ]
    },
    {
     "name": "stderr",
     "output_type": "stream",
     "text": [
      "Geolocalización inversa:  71%|███████   | 43002/60536 [5:55:57<2:42:45,  1.80it/s]"
     ]
    },
    {
     "name": "stdout",
     "output_type": "stream",
     "text": [
      "Datos y cache guardados hasta la fila 43000.\n"
     ]
    },
    {
     "name": "stderr",
     "output_type": "stream",
     "text": [
      "Geolocalización inversa:  73%|███████▎  | 44002/60536 [6:04:19<2:20:43,  1.96it/s]"
     ]
    },
    {
     "name": "stdout",
     "output_type": "stream",
     "text": [
      "Datos y cache guardados hasta la fila 44000.\n"
     ]
    },
    {
     "name": "stderr",
     "output_type": "stream",
     "text": [
      "Geolocalización inversa:  74%|███████▍  | 45002/60536 [6:12:40<2:15:34,  1.91it/s]"
     ]
    },
    {
     "name": "stdout",
     "output_type": "stream",
     "text": [
      "Datos y cache guardados hasta la fila 45000.\n"
     ]
    },
    {
     "name": "stderr",
     "output_type": "stream",
     "text": [
      "Geolocalización inversa:  76%|███████▌  | 46001/60536 [6:21:05<2:55:47,  1.38it/s]"
     ]
    },
    {
     "name": "stdout",
     "output_type": "stream",
     "text": [
      "Datos y cache guardados hasta la fila 46000.\n"
     ]
    },
    {
     "name": "stderr",
     "output_type": "stream",
     "text": [
      "Geolocalización inversa:  78%|███████▊  | 47001/60536 [6:29:26<2:33:21,  1.47it/s]"
     ]
    },
    {
     "name": "stdout",
     "output_type": "stream",
     "text": [
      "Datos y cache guardados hasta la fila 47000.\n"
     ]
    },
    {
     "name": "stderr",
     "output_type": "stream",
     "text": [
      "Geolocalización inversa:  79%|███████▉  | 48001/60536 [6:37:51<2:24:44,  1.44it/s]"
     ]
    },
    {
     "name": "stdout",
     "output_type": "stream",
     "text": [
      "Datos y cache guardados hasta la fila 48000.\n"
     ]
    },
    {
     "name": "stderr",
     "output_type": "stream",
     "text": [
      "Geolocalización inversa:  81%|████████  | 49001/60536 [6:46:14<2:10:38,  1.47it/s]"
     ]
    },
    {
     "name": "stdout",
     "output_type": "stream",
     "text": [
      "Datos y cache guardados hasta la fila 49000.\n"
     ]
    },
    {
     "name": "stderr",
     "output_type": "stream",
     "text": [
      "Geolocalización inversa:  83%|████████▎ | 50000/60536 [6:54:35<1:27:16,  2.01it/s]"
     ]
    },
    {
     "name": "stdout",
     "output_type": "stream",
     "text": [
      "Datos y cache guardados hasta la fila 50000.\n"
     ]
    },
    {
     "name": "stderr",
     "output_type": "stream",
     "text": [
      "Geolocalización inversa:  84%|████████▍ | 51001/60536 [7:02:58<1:57:18,  1.35it/s]"
     ]
    },
    {
     "name": "stdout",
     "output_type": "stream",
     "text": [
      "Datos y cache guardados hasta la fila 51000.\n"
     ]
    },
    {
     "name": "stderr",
     "output_type": "stream",
     "text": [
      "Geolocalización inversa:  86%|████████▌ | 52002/60536 [7:11:19<1:17:18,  1.84it/s]"
     ]
    },
    {
     "name": "stdout",
     "output_type": "stream",
     "text": [
      "Datos y cache guardados hasta la fila 52000.\n"
     ]
    },
    {
     "name": "stderr",
     "output_type": "stream",
     "text": [
      "Geolocalización inversa:  88%|████████▊ | 53002/60536 [7:19:39<1:08:09,  1.84it/s]"
     ]
    },
    {
     "name": "stdout",
     "output_type": "stream",
     "text": [
      "Datos y cache guardados hasta la fila 53000.\n"
     ]
    },
    {
     "name": "stderr",
     "output_type": "stream",
     "text": [
      "Geolocalización inversa:  89%|████████▉ | 54002/60536 [7:28:02<57:15,  1.90it/s]  "
     ]
    },
    {
     "name": "stdout",
     "output_type": "stream",
     "text": [
      "Datos y cache guardados hasta la fila 54000.\n"
     ]
    },
    {
     "name": "stderr",
     "output_type": "stream",
     "text": [
      "Geolocalización inversa:  91%|█████████ | 55002/60536 [7:36:24<49:39,  1.86it/s]  "
     ]
    },
    {
     "name": "stdout",
     "output_type": "stream",
     "text": [
      "Datos y cache guardados hasta la fila 55000.\n"
     ]
    },
    {
     "name": "stderr",
     "output_type": "stream",
     "text": [
      "Geolocalización inversa:  93%|█████████▎| 56001/60536 [7:44:47<56:17,  1.34it/s]  "
     ]
    },
    {
     "name": "stdout",
     "output_type": "stream",
     "text": [
      "Datos y cache guardados hasta la fila 56000.\n"
     ]
    },
    {
     "name": "stderr",
     "output_type": "stream",
     "text": [
      "Geolocalización inversa:  94%|█████████▍| 57001/60536 [7:53:12<42:20,  1.39it/s]"
     ]
    },
    {
     "name": "stdout",
     "output_type": "stream",
     "text": [
      "Datos y cache guardados hasta la fila 57000.\n"
     ]
    },
    {
     "name": "stderr",
     "output_type": "stream",
     "text": [
      "Geolocalización inversa:  96%|█████████▌| 58002/60536 [8:01:38<22:57,  1.84it/s]"
     ]
    },
    {
     "name": "stdout",
     "output_type": "stream",
     "text": [
      "Datos y cache guardados hasta la fila 58000.\n"
     ]
    },
    {
     "name": "stderr",
     "output_type": "stream",
     "text": [
      "Geolocalización inversa:  97%|█████████▋| 59001/60536 [8:10:07<19:42,  1.30it/s]"
     ]
    },
    {
     "name": "stdout",
     "output_type": "stream",
     "text": [
      "Datos y cache guardados hasta la fila 59000.\n"
     ]
    },
    {
     "name": "stderr",
     "output_type": "stream",
     "text": [
      "Geolocalización inversa:  99%|█████████▉| 60001/60536 [8:18:32<06:21,  1.40it/s]"
     ]
    },
    {
     "name": "stdout",
     "output_type": "stream",
     "text": [
      "Datos y cache guardados hasta la fila 60000.\n"
     ]
    },
    {
     "name": "stderr",
     "output_type": "stream",
     "text": [
      "Geolocalización inversa: 100%|██████████| 60536/60536 [8:23:01<00:00,  2.01it/s]"
     ]
    },
    {
     "name": "stdout",
     "output_type": "stream",
     "text": [
      "Datos y cache guardados hasta la fila 60535.\n",
      "Proceso completado y datos guardados.\n"
     ]
    },
    {
     "name": "stderr",
     "output_type": "stream",
     "text": [
      "\n"
     ]
    }
   ],
   "source": [
    "from geopy.geocoders import Nominatim\n",
    "from tqdm import tqdm\n",
    "import pandas as pd\n",
    "import json\n",
    "\n",
    "# Función para cargar el DataFrame\n",
    "def cargar_dataframe(path):\n",
    "    try:\n",
    "        df = pd.read_csv(path)\n",
    "        filas_procesadas = df['location_info'].notna().sum()\n",
    "        print(f\"Reanudando desde la fila {filas_procesadas}.\")\n",
    "        return df, filas_procesadas\n",
    "    except FileNotFoundError:\n",
    "        print(\"Archivo no encontrado. Empezando desde el principio.\")\n",
    "        return pd.DataFrame(), 0\n",
    "\n",
    "# Función para cargar o inicializar el cache\n",
    "def cargar_cache(path):\n",
    "    try:\n",
    "        with open(path, 'r') as file:\n",
    "            cache = json.load(file)\n",
    "        print(\"Cache de geolocalización cargado.\")\n",
    "    except (FileNotFoundError, json.JSONDecodeError):\n",
    "        cache = {}\n",
    "    return cache\n",
    "\n",
    "geolocator = Nominatim(user_agent=\"mi_aplicacion_geopy\")\n",
    "archivo_guardado = 'Data/Data_Fires_location.csv'\n",
    "archivo_cache = 'Data/cache_geoloc.json'\n",
    "\n",
    "# Cargar o inicializar DataFrame y cache\n",
    "df, inicio = cargar_dataframe(archivo_guardado)\n",
    "cache = cargar_cache(archivo_cache)\n",
    "\n",
    "if df.empty:\n",
    "    df_original = pd.read_csv('Data/Data_Fires.csv')\n",
    "    df = df_original.copy()\n",
    "    df['location_info'] = None\n",
    "\n",
    "# Función modificada para obtener la localización\n",
    "def get_location(row):\n",
    "    if pd.notna(row['location_info']):\n",
    "        return row['location_info']\n",
    "    # Convertir las coordenadas a string para usarlas como clave en el diccionario\n",
    "    coords_key = f\"{row['latitude']},{row['longitude']}\"\n",
    "    if coords_key in cache:\n",
    "        return cache[coords_key]\n",
    "    else:\n",
    "        try:\n",
    "            location = geolocator.reverse((row['latitude'], row['longitude']), exactly_one=True)\n",
    "            result = location.address if location else None\n",
    "            # Guardar el resultado usando la clave de coordenadas convertida a string\n",
    "            cache[coords_key] = result\n",
    "            return result\n",
    "        except Exception as e:\n",
    "            print(f\"Error al obtener la geolocalización: {e}\")\n",
    "            return None\n",
    "\n",
    "# Al guardar el cache, ya no deberías tener el problema del TypeError\n",
    "for i in tqdm(range(inicio, len(df)), desc=\"Geolocalización inversa\"):\n",
    "    df.at[i, 'location_info'] = get_location(df.iloc[i])\n",
    "    if i % 1000 == 0 or i == len(df) - 1:\n",
    "        df.to_csv(archivo_guardado, index=False)\n",
    "        with open(archivo_cache, 'w') as file:\n",
    "            json.dump(cache, file)\n",
    "        print(f\"Datos y cache guardados hasta la fila {i}.\")\n",
    "\n",
    "print(\"Proceso completado y datos guardados.\")"
   ]
  },
  {
   "cell_type": "code",
   "execution_count": 25,
   "id": "3e6ba769-a490-45cd-b0e8-08db24b098a1",
   "metadata": {
    "tags": []
   },
   "outputs": [
    {
     "name": "stderr",
     "output_type": "stream",
     "text": [
      "/var/folders/7s/xkdgs46x3k5636bxx89xwtqh0000gn/T/ipykernel_4872/2834957895.py:9: DtypeWarning: Columns (10) have mixed types. Specify dtype option on import or set low_memory=False.\n",
      "  df = pd.read_csv(path)\n"
     ]
    },
    {
     "name": "stdout",
     "output_type": "stream",
     "text": [
      "Total de filas en el DataFrame: 60536.\n",
      "Filas sin información de localización: 22.\n",
      "Cache de geolocalización cargado.\n"
     ]
    },
    {
     "name": "stderr",
     "output_type": "stream",
     "text": [
      "Geolocalización inversa: 100%|██████████| 22/22 [00:10<00:00,  2.04it/s]\n"
     ]
    },
    {
     "name": "stdout",
     "output_type": "stream",
     "text": [
      "Proceso completado y datos guardados.\n"
     ]
    }
   ],
   "source": [
    "# Realiza una segunda búsqueda para intentar completar las filas que no tienen información en la columna \"location_info\"\n",
    "\n",
    "from geopy.geocoders import Nominatim\n",
    "from tqdm import tqdm\n",
    "import pandas as pd\n",
    "import json\n",
    "\n",
    "# Cargar el DataFrame\n",
    "def cargar_dataframe(path):\n",
    "    try:\n",
    "        df = pd.read_csv(path)\n",
    "        print(f\"Total de filas en el DataFrame: {len(df)}.\")\n",
    "        filas_sin_procesar = df['location_info'].isna().sum()\n",
    "        print(f\"Filas sin información de localización: {filas_sin_procesar}.\")\n",
    "        return df, filas_sin_procesar\n",
    "    except FileNotFoundError:\n",
    "        print(\"Archivo no encontrado. Por favor, verifica la ruta del archivo.\")\n",
    "        return pd.DataFrame(), 0\n",
    "\n",
    "# Cargar o inicializar el cache\n",
    "def cargar_cache(path):\n",
    "    try:\n",
    "        with open(path, 'r') as file:\n",
    "            cache = json.load(file)\n",
    "        print(\"Cache de geolocalización cargado.\")\n",
    "    except (FileNotFoundError, json.JSONDecodeError):\n",
    "        print(\"Cache no encontrado o corrupto. Se creará uno nuevo.\")\n",
    "        cache = {}\n",
    "    return cache\n",
    "\n",
    "geolocator = Nominatim(user_agent=\"mi_aplicacion_geopy\")\n",
    "archivo_guardado = 'Data/Data_Fires_location.csv'  # Asegúrate de ajustar esta ruta\n",
    "archivo_cache = 'Data/cache_geoloc.json'  # Asegúrate de ajustar esta ruta\n",
    "\n",
    "# Cargar o inicializar DataFrame y cache\n",
    "df, filas_sin_procesar = cargar_dataframe(archivo_guardado)\n",
    "cache = cargar_cache(archivo_cache)\n",
    "\n",
    "# Si todas las filas ya tienen información, no hay necesidad de continuar\n",
    "if filas_sin_procesar == 0:\n",
    "    print(\"Todas las filas ya tienen información de localización.\")\n",
    "else:\n",
    "    # Función para obtener la localización\n",
    "    def get_location(row):\n",
    "        coords_key = f\"{row['latitude']},{row['longitude']}\"\n",
    "        if coords_key in cache:\n",
    "            return cache[coords_key]\n",
    "        else:\n",
    "            try:\n",
    "                location = geolocator.reverse((row['latitude'], row['longitude']), exactly_one=True)\n",
    "                result = location.address if location else None\n",
    "                cache[coords_key] = result\n",
    "                return result\n",
    "            except Exception as e:\n",
    "                print(f\"Error al obtener la geolocalización: {e}\")\n",
    "                return None\n",
    "\n",
    "    # Procesar solo las filas sin información de localización\n",
    "    filas_a_procesar = df[df['location_info'].isna()]\n",
    "    for i, row in tqdm(filas_a_procesar.iterrows(), total=filas_a_procesar.shape[0], desc=\"Geolocalización inversa\"):\n",
    "        df.at[i, 'location_info'] = get_location(row)\n",
    "\n",
    "    # Guardar los cambios realizados en el DataFrame y el cache\n",
    "    df.to_csv(archivo_guardado, index=False)\n",
    "    with open(archivo_cache, 'w') as file:\n",
    "        json.dump(cache, file)\n",
    "    print(\"Proceso completado y datos guardados.\")\n"
   ]
  },
  {
   "cell_type": "code",
   "execution_count": 6,
   "id": "b994d651-e76a-47cf-8d6a-e0ad73ddc031",
   "metadata": {},
   "outputs": [
    {
     "name": "stderr",
     "output_type": "stream",
     "text": [
      "/var/folders/7s/xkdgs46x3k5636bxx89xwtqh0000gn/T/ipykernel_4872/2063513018.py:5: DtypeWarning: Columns (10) have mixed types. Specify dtype option on import or set low_memory=False.\n",
      "  df = pd.read_csv('Data/Data_Fires_location.csv')\n",
      "Procesando ubicaciones: 100%|██████████| 60536/60536 [00:07<00:00, 8283.82it/s] \n"
     ]
    },
    {
     "name": "stdout",
     "output_type": "stream",
     "text": [
      "Proceso completado. Se han creado las columnas 'Provincia' y 'Comunidad_Autonoma'.\n",
      "El archivo modificado se ha guardado en 'Data/Data_Fires_with_locations.csv'.\n"
     ]
    }
   ],
   "source": [
    "import pandas as pd\n",
    "from tqdm import tqdm\n",
    "\n",
    "# Cargar el DataFrame\n",
    "df = pd.read_csv('Data/Data_Fires_location.csv')\n",
    "\n",
    "# Listas de provincias y comunidades autónomas de España\n",
    "provincias = [\n",
    "    \"A Coruña\", \"Álava\", \"Albacete\", \"Alicante\", \"Almería\", \"Asturias\", \"Ávila\", \"Badajoz\",\n",
    "    \"Barcelona\", \"Burgos\", \"Cáceres\", \"Cádiz\", \"Cantabria\", \"Castellón\", \"Ciudad Real\",\n",
    "    \"Córdoba\", \"Cuenca\", \"Girona\", \"Granada\", \"Guadalajara\", \"Gipuzkoa\", \"Huelva\", \"Huesca\",\n",
    "    \"Islas Baleares\", \"Jaén\", \"La Rioja\", \"Las Palmas\", \"León\", \"Lleida\", \"Lugo\", \"Madrid\",\n",
    "    \"Málaga\", \"Murcia\", \"Navarra\", \"Ourense\", \"Palencia\", \"Pontevedra\", \"Salamanca\", \"Segovia\",\n",
    "    \"Sevilla\", \"Soria\", \"Tarragona\", \"Santa Cruz de Tenerife\", \"Teruel\", \"Toledo\", \"Valencia\",\n",
    "    \"Valladolid\", \"Vizcaya\", \"Zamora\", \"Zaragoza\"\n",
    "]\n",
    "\n",
    "comunidades_autonomas = [\n",
    "    \"Andalucía\", \"Aragón\", \"Principado de Asturias\", \"Islas Baleares\", \"Canarias\",\n",
    "    \"Cantabria\", \"Castilla y León\", \"Castilla-La Mancha\", \"Cataluña\", \"Extremadura\",\n",
    "    \"Galicia\", \"Comunidad de Madrid\", \"Región de Murcia\", \"Comunidad Foral de Navarra\",\n",
    "    \"País Vasco\", \"La Rioja\", \"Comunidad Valenciana\", \"Ceuta\", \"Melilla\"\n",
    "]\n",
    "\n",
    "for index, row in tqdm(df.iterrows(), total=df.shape[0], desc=\"Procesando ubicaciones\"):\n",
    "    # Convertir la dirección a cadena para asegurar la operación 'in'\n",
    "    address = str(row['location_info'])\n",
    "    \n",
    "    # Buscar la provincia y comunidad autónoma solo si la dirección no es 'nan'\n",
    "    if address != 'nan':\n",
    "        provincia = next((p for p in provincias if p in address), None)\n",
    "        comunidad_autonoma = next((c for c in comunidades_autonomas if c in address), None)\n",
    "    else:\n",
    "        provincia = None\n",
    "        comunidad_autonoma = None\n",
    "\n",
    "    df.at[index, 'Provincia'] = provincia\n",
    "    df.at[index, 'Comunidad_Autonoma'] = comunidad_autonoma\n",
    "\n",
    "# Guardar los cambios en un nuevo archivo CSV\n",
    "df.to_csv('Data/Data_Fires_location.csv', index=False)\n",
    "\n",
    "print(\"Proceso completado. Se han creado las columnas 'Provincia' y 'Comunidad_Autonoma'.\")\n",
    "print(\"El archivo modificado se ha guardado en 'Data/Data_Fires_with_locations.csv'.\")\n"
   ]
  },
  {
   "cell_type": "code",
   "execution_count": 7,
   "id": "825cb9b6-09b3-40e6-b768-52b2cca16320",
   "metadata": {
    "tags": []
   },
   "outputs": [
    {
     "data": {
      "text/html": [
       "<div>\n",
       "<style scoped>\n",
       "    .dataframe tbody tr th:only-of-type {\n",
       "        vertical-align: middle;\n",
       "    }\n",
       "\n",
       "    .dataframe tbody tr th {\n",
       "        vertical-align: top;\n",
       "    }\n",
       "\n",
       "    .dataframe thead th {\n",
       "        text-align: right;\n",
       "    }\n",
       "</style>\n",
       "<table border=\"1\" class=\"dataframe\">\n",
       "  <thead>\n",
       "    <tr style=\"text-align: right;\">\n",
       "      <th></th>\n",
       "      <th>latitude</th>\n",
       "      <th>longitude</th>\n",
       "      <th>brightness</th>\n",
       "      <th>scan</th>\n",
       "      <th>track</th>\n",
       "      <th>acq_date</th>\n",
       "      <th>acq_time</th>\n",
       "      <th>satellite</th>\n",
       "      <th>instrument</th>\n",
       "      <th>confidence</th>\n",
       "      <th>version</th>\n",
       "      <th>bright_t31</th>\n",
       "      <th>frp</th>\n",
       "      <th>daynight</th>\n",
       "      <th>type</th>\n",
       "      <th>location_info</th>\n",
       "      <th>Provincia</th>\n",
       "      <th>Comunidad_Autonoma</th>\n",
       "    </tr>\n",
       "  </thead>\n",
       "  <tbody>\n",
       "    <tr>\n",
       "      <th>0</th>\n",
       "      <td>43.52650</td>\n",
       "      <td>-5.73400</td>\n",
       "      <td>302.90</td>\n",
       "      <td>1.10</td>\n",
       "      <td>1.10</td>\n",
       "      <td>2008-01-01</td>\n",
       "      <td>1112</td>\n",
       "      <td>Terra</td>\n",
       "      <td>MODIS</td>\n",
       "      <td>54</td>\n",
       "      <td>6.2</td>\n",
       "      <td>282.50</td>\n",
       "      <td>9.70</td>\n",
       "      <td>D</td>\n",
       "      <td>2.0</td>\n",
       "      <td>NaN</td>\n",
       "      <td>NaN</td>\n",
       "      <td>NaN</td>\n",
       "    </tr>\n",
       "    <tr>\n",
       "      <th>1</th>\n",
       "      <td>37.80150</td>\n",
       "      <td>-3.61460</td>\n",
       "      <td>307.60</td>\n",
       "      <td>1.00</td>\n",
       "      <td>1.00</td>\n",
       "      <td>2008-01-01</td>\n",
       "      <td>1113</td>\n",
       "      <td>Terra</td>\n",
       "      <td>MODIS</td>\n",
       "      <td>66</td>\n",
       "      <td>6.2</td>\n",
       "      <td>278.90</td>\n",
       "      <td>11.00</td>\n",
       "      <td>D</td>\n",
       "      <td>0.0</td>\n",
       "      <td>Camino Angosto, Mancha Real, Jaén, Andalucía, ...</td>\n",
       "      <td>Jaén</td>\n",
       "      <td>Andalucía</td>\n",
       "    </tr>\n",
       "    <tr>\n",
       "      <th>2</th>\n",
       "      <td>37.18340</td>\n",
       "      <td>-6.66970</td>\n",
       "      <td>300.20</td>\n",
       "      <td>1.20</td>\n",
       "      <td>1.10</td>\n",
       "      <td>2008-01-04</td>\n",
       "      <td>1322</td>\n",
       "      <td>Aqua</td>\n",
       "      <td>MODIS</td>\n",
       "      <td>33</td>\n",
       "      <td>6.2</td>\n",
       "      <td>286.70</td>\n",
       "      <td>6.00</td>\n",
       "      <td>D</td>\n",
       "      <td>0.0</td>\n",
       "      <td>Almonte, El Condado, Huelva, Andalucía, España</td>\n",
       "      <td>Huelva</td>\n",
       "      <td>Andalucía</td>\n",
       "    </tr>\n",
       "    <tr>\n",
       "      <th>3</th>\n",
       "      <td>43.28080</td>\n",
       "      <td>-4.18960</td>\n",
       "      <td>300.30</td>\n",
       "      <td>1.00</td>\n",
       "      <td>1.00</td>\n",
       "      <td>2008-01-04</td>\n",
       "      <td>1323</td>\n",
       "      <td>Aqua</td>\n",
       "      <td>MODIS</td>\n",
       "      <td>34</td>\n",
       "      <td>6.2</td>\n",
       "      <td>284.40</td>\n",
       "      <td>6.50</td>\n",
       "      <td>D</td>\n",
       "      <td>0.0</td>\n",
       "      <td>Pulero, Mazcuerras, Cantabria, 39509, España</td>\n",
       "      <td>Cantabria</td>\n",
       "      <td>Cantabria</td>\n",
       "    </tr>\n",
       "    <tr>\n",
       "      <th>4</th>\n",
       "      <td>37.44830</td>\n",
       "      <td>-1.77940</td>\n",
       "      <td>301.00</td>\n",
       "      <td>1.20</td>\n",
       "      <td>1.10</td>\n",
       "      <td>2008-01-05</td>\n",
       "      <td>1049</td>\n",
       "      <td>Terra</td>\n",
       "      <td>MODIS</td>\n",
       "      <td>44</td>\n",
       "      <td>6.2</td>\n",
       "      <td>279.80</td>\n",
       "      <td>7.40</td>\n",
       "      <td>D</td>\n",
       "      <td>0.0</td>\n",
       "      <td>Pulpí, Almería, Andalucía, España</td>\n",
       "      <td>Almería</td>\n",
       "      <td>Andalucía</td>\n",
       "    </tr>\n",
       "    <tr>\n",
       "      <th>...</th>\n",
       "      <td>...</td>\n",
       "      <td>...</td>\n",
       "      <td>...</td>\n",
       "      <td>...</td>\n",
       "      <td>...</td>\n",
       "      <td>...</td>\n",
       "      <td>...</td>\n",
       "      <td>...</td>\n",
       "      <td>...</td>\n",
       "      <td>...</td>\n",
       "      <td>...</td>\n",
       "      <td>...</td>\n",
       "      <td>...</td>\n",
       "      <td>...</td>\n",
       "      <td>...</td>\n",
       "      <td>...</td>\n",
       "      <td>...</td>\n",
       "      <td>...</td>\n",
       "    </tr>\n",
       "    <tr>\n",
       "      <th>60531</th>\n",
       "      <td>37.09133</td>\n",
       "      <td>-3.79891</td>\n",
       "      <td>307.26</td>\n",
       "      <td>1.21</td>\n",
       "      <td>1.09</td>\n",
       "      <td>2023-12-30</td>\n",
       "      <td>1335</td>\n",
       "      <td>Aqua</td>\n",
       "      <td>MODIS</td>\n",
       "      <td>65</td>\n",
       "      <td>6.1NRT</td>\n",
       "      <td>290.22</td>\n",
       "      <td>8.72</td>\n",
       "      <td>D</td>\n",
       "      <td>NaN</td>\n",
       "      <td>Camino de La Malahá, Ácula, Ventas de Huelma, ...</td>\n",
       "      <td>Granada</td>\n",
       "      <td>Andalucía</td>\n",
       "    </tr>\n",
       "    <tr>\n",
       "      <th>60532</th>\n",
       "      <td>39.63990</td>\n",
       "      <td>-3.80005</td>\n",
       "      <td>301.17</td>\n",
       "      <td>1.11</td>\n",
       "      <td>1.05</td>\n",
       "      <td>2023-12-30</td>\n",
       "      <td>1337</td>\n",
       "      <td>Aqua</td>\n",
       "      <td>MODIS</td>\n",
       "      <td>45</td>\n",
       "      <td>6.1NRT</td>\n",
       "      <td>288.41</td>\n",
       "      <td>4.98</td>\n",
       "      <td>D</td>\n",
       "      <td>NaN</td>\n",
       "      <td>Manzaneque, Castilla-La Mancha, España</td>\n",
       "      <td>None</td>\n",
       "      <td>Castilla-La Mancha</td>\n",
       "    </tr>\n",
       "    <tr>\n",
       "      <th>60533</th>\n",
       "      <td>40.40717</td>\n",
       "      <td>-1.20839</td>\n",
       "      <td>304.66</td>\n",
       "      <td>1.00</td>\n",
       "      <td>1.00</td>\n",
       "      <td>2023-12-30</td>\n",
       "      <td>1337</td>\n",
       "      <td>Aqua</td>\n",
       "      <td>MODIS</td>\n",
       "      <td>59</td>\n",
       "      <td>6.1NRT</td>\n",
       "      <td>285.20</td>\n",
       "      <td>7.60</td>\n",
       "      <td>D</td>\n",
       "      <td>NaN</td>\n",
       "      <td>El Torrejón, Caudé, Teruel, Comunidad de Terue...</td>\n",
       "      <td>Teruel</td>\n",
       "      <td>Aragón</td>\n",
       "    </tr>\n",
       "    <tr>\n",
       "      <th>60534</th>\n",
       "      <td>43.52096</td>\n",
       "      <td>-5.74018</td>\n",
       "      <td>300.38</td>\n",
       "      <td>1.15</td>\n",
       "      <td>1.07</td>\n",
       "      <td>2023-12-30</td>\n",
       "      <td>1337</td>\n",
       "      <td>Aqua</td>\n",
       "      <td>MODIS</td>\n",
       "      <td>36</td>\n",
       "      <td>6.1NRT</td>\n",
       "      <td>287.94</td>\n",
       "      <td>6.64</td>\n",
       "      <td>D</td>\n",
       "      <td>NaN</td>\n",
       "      <td>Carretera de Veriña a San Andrés, La Cruz, Gij...</td>\n",
       "      <td>Asturias</td>\n",
       "      <td>None</td>\n",
       "    </tr>\n",
       "    <tr>\n",
       "      <th>60535</th>\n",
       "      <td>43.52892</td>\n",
       "      <td>-5.73466</td>\n",
       "      <td>300.26</td>\n",
       "      <td>1.79</td>\n",
       "      <td>1.31</td>\n",
       "      <td>2023-12-31</td>\n",
       "      <td>1418</td>\n",
       "      <td>Aqua</td>\n",
       "      <td>MODIS</td>\n",
       "      <td>33</td>\n",
       "      <td>6.1NRT</td>\n",
       "      <td>279.32</td>\n",
       "      <td>15.17</td>\n",
       "      <td>D</td>\n",
       "      <td>NaN</td>\n",
       "      <td>Camin de los Blancos, Les Quemaes, Gijón / Xix...</td>\n",
       "      <td>Asturias</td>\n",
       "      <td>None</td>\n",
       "    </tr>\n",
       "  </tbody>\n",
       "</table>\n",
       "<p>60536 rows × 18 columns</p>\n",
       "</div>"
      ],
      "text/plain": [
       "       latitude  longitude  brightness  scan  track    acq_date  acq_time  \\\n",
       "0      43.52650   -5.73400      302.90  1.10   1.10  2008-01-01      1112   \n",
       "1      37.80150   -3.61460      307.60  1.00   1.00  2008-01-01      1113   \n",
       "2      37.18340   -6.66970      300.20  1.20   1.10  2008-01-04      1322   \n",
       "3      43.28080   -4.18960      300.30  1.00   1.00  2008-01-04      1323   \n",
       "4      37.44830   -1.77940      301.00  1.20   1.10  2008-01-05      1049   \n",
       "...         ...        ...         ...   ...    ...         ...       ...   \n",
       "60531  37.09133   -3.79891      307.26  1.21   1.09  2023-12-30      1335   \n",
       "60532  39.63990   -3.80005      301.17  1.11   1.05  2023-12-30      1337   \n",
       "60533  40.40717   -1.20839      304.66  1.00   1.00  2023-12-30      1337   \n",
       "60534  43.52096   -5.74018      300.38  1.15   1.07  2023-12-30      1337   \n",
       "60535  43.52892   -5.73466      300.26  1.79   1.31  2023-12-31      1418   \n",
       "\n",
       "      satellite instrument  confidence version  bright_t31    frp daynight  \\\n",
       "0         Terra      MODIS          54     6.2      282.50   9.70        D   \n",
       "1         Terra      MODIS          66     6.2      278.90  11.00        D   \n",
       "2          Aqua      MODIS          33     6.2      286.70   6.00        D   \n",
       "3          Aqua      MODIS          34     6.2      284.40   6.50        D   \n",
       "4         Terra      MODIS          44     6.2      279.80   7.40        D   \n",
       "...         ...        ...         ...     ...         ...    ...      ...   \n",
       "60531      Aqua      MODIS          65  6.1NRT      290.22   8.72        D   \n",
       "60532      Aqua      MODIS          45  6.1NRT      288.41   4.98        D   \n",
       "60533      Aqua      MODIS          59  6.1NRT      285.20   7.60        D   \n",
       "60534      Aqua      MODIS          36  6.1NRT      287.94   6.64        D   \n",
       "60535      Aqua      MODIS          33  6.1NRT      279.32  15.17        D   \n",
       "\n",
       "       type                                      location_info  Provincia  \\\n",
       "0       2.0                                                NaN        NaN   \n",
       "1       0.0  Camino Angosto, Mancha Real, Jaén, Andalucía, ...       Jaén   \n",
       "2       0.0     Almonte, El Condado, Huelva, Andalucía, España     Huelva   \n",
       "3       0.0       Pulero, Mazcuerras, Cantabria, 39509, España  Cantabria   \n",
       "4       0.0                  Pulpí, Almería, Andalucía, España    Almería   \n",
       "...     ...                                                ...        ...   \n",
       "60531   NaN  Camino de La Malahá, Ácula, Ventas de Huelma, ...    Granada   \n",
       "60532   NaN             Manzaneque, Castilla-La Mancha, España       None   \n",
       "60533   NaN  El Torrejón, Caudé, Teruel, Comunidad de Terue...     Teruel   \n",
       "60534   NaN  Carretera de Veriña a San Andrés, La Cruz, Gij...   Asturias   \n",
       "60535   NaN  Camin de los Blancos, Les Quemaes, Gijón / Xix...   Asturias   \n",
       "\n",
       "       Comunidad_Autonoma  \n",
       "0                     NaN  \n",
       "1               Andalucía  \n",
       "2               Andalucía  \n",
       "3               Cantabria  \n",
       "4               Andalucía  \n",
       "...                   ...  \n",
       "60531           Andalucía  \n",
       "60532  Castilla-La Mancha  \n",
       "60533              Aragón  \n",
       "60534                None  \n",
       "60535                None  \n",
       "\n",
       "[60536 rows x 18 columns]"
      ]
     },
     "execution_count": 7,
     "metadata": {},
     "output_type": "execute_result"
    }
   ],
   "source": [
    "df"
   ]
  },
  {
   "cell_type": "code",
   "execution_count": 8,
   "id": "2309b21b-3a18-4205-9e74-a51ae3399583",
   "metadata": {
    "tags": []
   },
   "outputs": [
    {
     "name": "stderr",
     "output_type": "stream",
     "text": [
      "/var/folders/7s/xkdgs46x3k5636bxx89xwtqh0000gn/T/ipykernel_4872/2709161833.py:6: DtypeWarning: Columns (10) have mixed types. Specify dtype option on import or set low_memory=False.\n",
      "  df = pd.read_csv(ruta_archivo)\n",
      "Procesando: 100%|██████████| 100/100 [00:00<00:00, 419850.25it/s]"
     ]
    },
    {
     "name": "stdout",
     "output_type": "stream",
     "text": [
      "Número de Filas sin Provincia ni Comunidad Autónoma: 17799\n",
      "Número de Filas sin Provincia: 4779\n",
      "Número de Filas sin Comunidad Autónoma: 16297\n",
      "Número de Provincias Únicas: 46\n",
      "Número de Comunidades Autónomas Únicas: 14\n"
     ]
    },
    {
     "name": "stderr",
     "output_type": "stream",
     "text": [
      "\n"
     ]
    },
    {
     "data": {
      "text/html": [
       "<div>\n",
       "<style scoped>\n",
       "    .dataframe tbody tr th:only-of-type {\n",
       "        vertical-align: middle;\n",
       "    }\n",
       "\n",
       "    .dataframe tbody tr th {\n",
       "        vertical-align: top;\n",
       "    }\n",
       "\n",
       "    .dataframe thead th {\n",
       "        text-align: right;\n",
       "    }\n",
       "</style>\n",
       "<table border=\"1\" class=\"dataframe\">\n",
       "  <thead>\n",
       "    <tr style=\"text-align: right;\">\n",
       "      <th></th>\n",
       "      <th>latitude</th>\n",
       "      <th>longitude</th>\n",
       "      <th>brightness</th>\n",
       "      <th>scan</th>\n",
       "      <th>track</th>\n",
       "      <th>acq_date</th>\n",
       "      <th>acq_time</th>\n",
       "      <th>satellite</th>\n",
       "      <th>instrument</th>\n",
       "      <th>confidence</th>\n",
       "      <th>version</th>\n",
       "      <th>bright_t31</th>\n",
       "      <th>frp</th>\n",
       "      <th>daynight</th>\n",
       "      <th>type</th>\n",
       "      <th>location_info</th>\n",
       "      <th>Provincia</th>\n",
       "      <th>Comunidad_Autonoma</th>\n",
       "    </tr>\n",
       "  </thead>\n",
       "  <tbody>\n",
       "    <tr>\n",
       "      <th>0</th>\n",
       "      <td>43.52650</td>\n",
       "      <td>-5.73400</td>\n",
       "      <td>302.90</td>\n",
       "      <td>1.10</td>\n",
       "      <td>1.10</td>\n",
       "      <td>2008-01-01</td>\n",
       "      <td>1112</td>\n",
       "      <td>Terra</td>\n",
       "      <td>MODIS</td>\n",
       "      <td>54</td>\n",
       "      <td>6.2</td>\n",
       "      <td>282.50</td>\n",
       "      <td>9.70</td>\n",
       "      <td>D</td>\n",
       "      <td>2.0</td>\n",
       "      <td>NaN</td>\n",
       "      <td>NaN</td>\n",
       "      <td>NaN</td>\n",
       "    </tr>\n",
       "    <tr>\n",
       "      <th>5</th>\n",
       "      <td>43.53800</td>\n",
       "      <td>-5.83130</td>\n",
       "      <td>300.50</td>\n",
       "      <td>1.00</td>\n",
       "      <td>1.00</td>\n",
       "      <td>2008-01-06</td>\n",
       "      <td>1130</td>\n",
       "      <td>Terra</td>\n",
       "      <td>MODIS</td>\n",
       "      <td>38</td>\n",
       "      <td>6.2</td>\n",
       "      <td>289.90</td>\n",
       "      <td>4.20</td>\n",
       "      <td>D</td>\n",
       "      <td>0.0</td>\n",
       "      <td>Carretera de L'Empalme a Avilés, Tabaza, Carre...</td>\n",
       "      <td>Asturias</td>\n",
       "      <td>NaN</td>\n",
       "    </tr>\n",
       "    <tr>\n",
       "      <th>6</th>\n",
       "      <td>38.04660</td>\n",
       "      <td>-1.68060</td>\n",
       "      <td>301.40</td>\n",
       "      <td>1.00</td>\n",
       "      <td>1.00</td>\n",
       "      <td>2008-01-06</td>\n",
       "      <td>1309</td>\n",
       "      <td>Aqua</td>\n",
       "      <td>MODIS</td>\n",
       "      <td>47</td>\n",
       "      <td>6.2</td>\n",
       "      <td>290.00</td>\n",
       "      <td>4.00</td>\n",
       "      <td>D</td>\n",
       "      <td>0.0</td>\n",
       "      <td>Calle Hospital, Bullas, Noroeste, 30180, España</td>\n",
       "      <td>NaN</td>\n",
       "      <td>NaN</td>\n",
       "    </tr>\n",
       "    <tr>\n",
       "      <th>7</th>\n",
       "      <td>38.04480</td>\n",
       "      <td>-1.69210</td>\n",
       "      <td>312.80</td>\n",
       "      <td>1.00</td>\n",
       "      <td>1.00</td>\n",
       "      <td>2008-01-06</td>\n",
       "      <td>1309</td>\n",
       "      <td>Aqua</td>\n",
       "      <td>MODIS</td>\n",
       "      <td>73</td>\n",
       "      <td>6.2</td>\n",
       "      <td>289.60</td>\n",
       "      <td>11.90</td>\n",
       "      <td>D</td>\n",
       "      <td>0.0</td>\n",
       "      <td>Vía Verde del Noroeste, Bullas, Noroeste, 3018...</td>\n",
       "      <td>NaN</td>\n",
       "      <td>NaN</td>\n",
       "    </tr>\n",
       "    <tr>\n",
       "      <th>9</th>\n",
       "      <td>43.22240</td>\n",
       "      <td>-3.20250</td>\n",
       "      <td>310.10</td>\n",
       "      <td>1.10</td>\n",
       "      <td>1.00</td>\n",
       "      <td>2008-01-10</td>\n",
       "      <td>1106</td>\n",
       "      <td>Terra</td>\n",
       "      <td>MODIS</td>\n",
       "      <td>69</td>\n",
       "      <td>6.2</td>\n",
       "      <td>281.50</td>\n",
       "      <td>12.90</td>\n",
       "      <td>D</td>\n",
       "      <td>0.0</td>\n",
       "      <td>Carretera Acceso Lagarbea, La Herbosa, Artzent...</td>\n",
       "      <td>NaN</td>\n",
       "      <td>NaN</td>\n",
       "    </tr>\n",
       "    <tr>\n",
       "      <th>...</th>\n",
       "      <td>...</td>\n",
       "      <td>...</td>\n",
       "      <td>...</td>\n",
       "      <td>...</td>\n",
       "      <td>...</td>\n",
       "      <td>...</td>\n",
       "      <td>...</td>\n",
       "      <td>...</td>\n",
       "      <td>...</td>\n",
       "      <td>...</td>\n",
       "      <td>...</td>\n",
       "      <td>...</td>\n",
       "      <td>...</td>\n",
       "      <td>...</td>\n",
       "      <td>...</td>\n",
       "      <td>...</td>\n",
       "      <td>...</td>\n",
       "      <td>...</td>\n",
       "    </tr>\n",
       "    <tr>\n",
       "      <th>60528</th>\n",
       "      <td>38.72263</td>\n",
       "      <td>-0.72054</td>\n",
       "      <td>304.89</td>\n",
       "      <td>1.10</td>\n",
       "      <td>1.05</td>\n",
       "      <td>2023-12-25</td>\n",
       "      <td>1325</td>\n",
       "      <td>Aqua</td>\n",
       "      <td>MODIS</td>\n",
       "      <td>31</td>\n",
       "      <td>6.1NRT</td>\n",
       "      <td>290.23</td>\n",
       "      <td>6.62</td>\n",
       "      <td>D</td>\n",
       "      <td>NaN</td>\n",
       "      <td>El Salse, Banyeres de Mariola, l'Alcoià, Alaca...</td>\n",
       "      <td>Alicante</td>\n",
       "      <td>NaN</td>\n",
       "    </tr>\n",
       "    <tr>\n",
       "      <th>60529</th>\n",
       "      <td>39.41438</td>\n",
       "      <td>2.80341</td>\n",
       "      <td>325.50</td>\n",
       "      <td>1.11</td>\n",
       "      <td>1.05</td>\n",
       "      <td>2023-12-27</td>\n",
       "      <td>1310</td>\n",
       "      <td>Aqua</td>\n",
       "      <td>MODIS</td>\n",
       "      <td>79</td>\n",
       "      <td>6.1NRT</td>\n",
       "      <td>289.94</td>\n",
       "      <td>26.55</td>\n",
       "      <td>D</td>\n",
       "      <td>NaN</td>\n",
       "      <td>Camí de s'Àguila, Llucmajor, Migjorn, Illes Ba...</td>\n",
       "      <td>NaN</td>\n",
       "      <td>NaN</td>\n",
       "    </tr>\n",
       "    <tr>\n",
       "      <th>60532</th>\n",
       "      <td>39.63990</td>\n",
       "      <td>-3.80005</td>\n",
       "      <td>301.17</td>\n",
       "      <td>1.11</td>\n",
       "      <td>1.05</td>\n",
       "      <td>2023-12-30</td>\n",
       "      <td>1337</td>\n",
       "      <td>Aqua</td>\n",
       "      <td>MODIS</td>\n",
       "      <td>45</td>\n",
       "      <td>6.1NRT</td>\n",
       "      <td>288.41</td>\n",
       "      <td>4.98</td>\n",
       "      <td>D</td>\n",
       "      <td>NaN</td>\n",
       "      <td>Manzaneque, Castilla-La Mancha, España</td>\n",
       "      <td>NaN</td>\n",
       "      <td>Castilla-La Mancha</td>\n",
       "    </tr>\n",
       "    <tr>\n",
       "      <th>60534</th>\n",
       "      <td>43.52096</td>\n",
       "      <td>-5.74018</td>\n",
       "      <td>300.38</td>\n",
       "      <td>1.15</td>\n",
       "      <td>1.07</td>\n",
       "      <td>2023-12-30</td>\n",
       "      <td>1337</td>\n",
       "      <td>Aqua</td>\n",
       "      <td>MODIS</td>\n",
       "      <td>36</td>\n",
       "      <td>6.1NRT</td>\n",
       "      <td>287.94</td>\n",
       "      <td>6.64</td>\n",
       "      <td>D</td>\n",
       "      <td>NaN</td>\n",
       "      <td>Carretera de Veriña a San Andrés, La Cruz, Gij...</td>\n",
       "      <td>Asturias</td>\n",
       "      <td>NaN</td>\n",
       "    </tr>\n",
       "    <tr>\n",
       "      <th>60535</th>\n",
       "      <td>43.52892</td>\n",
       "      <td>-5.73466</td>\n",
       "      <td>300.26</td>\n",
       "      <td>1.79</td>\n",
       "      <td>1.31</td>\n",
       "      <td>2023-12-31</td>\n",
       "      <td>1418</td>\n",
       "      <td>Aqua</td>\n",
       "      <td>MODIS</td>\n",
       "      <td>33</td>\n",
       "      <td>6.1NRT</td>\n",
       "      <td>279.32</td>\n",
       "      <td>15.17</td>\n",
       "      <td>D</td>\n",
       "      <td>NaN</td>\n",
       "      <td>Camin de los Blancos, Les Quemaes, Gijón / Xix...</td>\n",
       "      <td>Asturias</td>\n",
       "      <td>NaN</td>\n",
       "    </tr>\n",
       "  </tbody>\n",
       "</table>\n",
       "<p>17799 rows × 18 columns</p>\n",
       "</div>"
      ],
      "text/plain": [
       "       latitude  longitude  brightness  scan  track    acq_date  acq_time  \\\n",
       "0      43.52650   -5.73400      302.90  1.10   1.10  2008-01-01      1112   \n",
       "5      43.53800   -5.83130      300.50  1.00   1.00  2008-01-06      1130   \n",
       "6      38.04660   -1.68060      301.40  1.00   1.00  2008-01-06      1309   \n",
       "7      38.04480   -1.69210      312.80  1.00   1.00  2008-01-06      1309   \n",
       "9      43.22240   -3.20250      310.10  1.10   1.00  2008-01-10      1106   \n",
       "...         ...        ...         ...   ...    ...         ...       ...   \n",
       "60528  38.72263   -0.72054      304.89  1.10   1.05  2023-12-25      1325   \n",
       "60529  39.41438    2.80341      325.50  1.11   1.05  2023-12-27      1310   \n",
       "60532  39.63990   -3.80005      301.17  1.11   1.05  2023-12-30      1337   \n",
       "60534  43.52096   -5.74018      300.38  1.15   1.07  2023-12-30      1337   \n",
       "60535  43.52892   -5.73466      300.26  1.79   1.31  2023-12-31      1418   \n",
       "\n",
       "      satellite instrument  confidence version  bright_t31    frp daynight  \\\n",
       "0         Terra      MODIS          54     6.2      282.50   9.70        D   \n",
       "5         Terra      MODIS          38     6.2      289.90   4.20        D   \n",
       "6          Aqua      MODIS          47     6.2      290.00   4.00        D   \n",
       "7          Aqua      MODIS          73     6.2      289.60  11.90        D   \n",
       "9         Terra      MODIS          69     6.2      281.50  12.90        D   \n",
       "...         ...        ...         ...     ...         ...    ...      ...   \n",
       "60528      Aqua      MODIS          31  6.1NRT      290.23   6.62        D   \n",
       "60529      Aqua      MODIS          79  6.1NRT      289.94  26.55        D   \n",
       "60532      Aqua      MODIS          45  6.1NRT      288.41   4.98        D   \n",
       "60534      Aqua      MODIS          36  6.1NRT      287.94   6.64        D   \n",
       "60535      Aqua      MODIS          33  6.1NRT      279.32  15.17        D   \n",
       "\n",
       "       type                                      location_info Provincia  \\\n",
       "0       2.0                                                NaN       NaN   \n",
       "5       0.0  Carretera de L'Empalme a Avilés, Tabaza, Carre...  Asturias   \n",
       "6       0.0    Calle Hospital, Bullas, Noroeste, 30180, España       NaN   \n",
       "7       0.0  Vía Verde del Noroeste, Bullas, Noroeste, 3018...       NaN   \n",
       "9       0.0  Carretera Acceso Lagarbea, La Herbosa, Artzent...       NaN   \n",
       "...     ...                                                ...       ...   \n",
       "60528   NaN  El Salse, Banyeres de Mariola, l'Alcoià, Alaca...  Alicante   \n",
       "60529   NaN  Camí de s'Àguila, Llucmajor, Migjorn, Illes Ba...       NaN   \n",
       "60532   NaN             Manzaneque, Castilla-La Mancha, España       NaN   \n",
       "60534   NaN  Carretera de Veriña a San Andrés, La Cruz, Gij...  Asturias   \n",
       "60535   NaN  Camin de los Blancos, Les Quemaes, Gijón / Xix...  Asturias   \n",
       "\n",
       "       Comunidad_Autonoma  \n",
       "0                     NaN  \n",
       "5                     NaN  \n",
       "6                     NaN  \n",
       "7                     NaN  \n",
       "9                     NaN  \n",
       "...                   ...  \n",
       "60528                 NaN  \n",
       "60529                 NaN  \n",
       "60532  Castilla-La Mancha  \n",
       "60534                 NaN  \n",
       "60535                 NaN  \n",
       "\n",
       "[17799 rows x 18 columns]"
      ]
     },
     "execution_count": 8,
     "metadata": {},
     "output_type": "execute_result"
    }
   ],
   "source": [
    "import pandas as pd\n",
    "from tqdm import tqdm\n",
    "\n",
    "# Cargar el archivo CSV\n",
    "ruta_archivo = 'Data/Data_Fires_location.csv'\n",
    "df = pd.read_csv(ruta_archivo)\n",
    "\n",
    "# Extraer provincias y comunidades autónomas únicas\n",
    "provincias_unicas = df['Provincia'].unique()\n",
    "comunidades_autonomas_unicas = df['Comunidad_Autonoma'].unique()\n",
    "\n",
    "# Dataframe con filas que no tienen provincia, comunidad autónoma, o ambas\n",
    "df_sin_provincia_o_comunidad = df[df['Provincia'].isna() | df['Comunidad_Autonoma'].isna()]\n",
    "\n",
    "# Contar el número de filas sin provincia, comunidad autónoma, o ambas\n",
    "num_filas_sin_provincia_o_comunidad = len(df_sin_provincia_o_comunidad)\n",
    "\n",
    "# Contar el número de filas sin provincia y sin comunidad autónoma por separado\n",
    "num_filas_sin_provincia = len(df[df['Provincia'].isna()])\n",
    "num_filas_sin_comunidad_autonoma = len(df[df['Comunidad_Autonoma'].isna()])\n",
    "\n",
    "# Contar el número de provincias únicas y comunidades autónomas únicas\n",
    "num_provincias_unicas = len(provincias_unicas)\n",
    "num_comunidades_autonomas_unicas = len(comunidades_autonomas_unicas)\n",
    "\n",
    "# Crear una barra de progreso para el proceso\n",
    "for _ in tqdm(range(100), desc=\"Procesando\"):\n",
    "    pass\n",
    "\n",
    "# Resultados\n",
    "print(\"Número de Filas sin Provincia ni Comunidad Autónoma:\", num_filas_sin_provincia_o_comunidad)\n",
    "print(\"Número de Filas sin Provincia:\", num_filas_sin_provincia)\n",
    "print(\"Número de Filas sin Comunidad Autónoma:\", num_filas_sin_comunidad_autonoma)\n",
    "print(\"Número de Provincias Únicas:\", num_provincias_unicas)\n",
    "print(\"Número de Comunidades Autónomas Únicas:\", num_comunidades_autonomas_unicas)\n",
    "\n",
    "df_sin_provincia_o_comunidad"
   ]
  },
  {
   "cell_type": "code",
   "execution_count": 9,
   "id": "3c1b40cf-f65d-49a6-a54c-8b8a307b1ba4",
   "metadata": {},
   "outputs": [
    {
     "data": {
      "text/plain": [
       "' FINAL DE LA ESPERA, A PARTIR DE AQUÍ YA PUEDES EJECTURAR EL CODIGO SIN MIEDO '"
      ]
     },
     "execution_count": 9,
     "metadata": {},
     "output_type": "execute_result"
    }
   ],
   "source": [
    "\"\"\" FINAL DE LA ESPERA, A PARTIR DE AQUÍ YA PUEDES EJECTURAR EL CODIGO SIN MIEDO \"\"\"\n",
    "\"\"\" FINAL DE LA ESPERA, A PARTIR DE AQUÍ YA PUEDES EJECTURAR EL CODIGO SIN MIEDO \"\"\"\n",
    "\"\"\" FINAL DE LA ESPERA, A PARTIR DE AQUÍ YA PUEDES EJECTURAR EL CODIGO SIN MIEDO \"\"\"\n",
    "\"\"\" FINAL DE LA ESPERA, A PARTIR DE AQUÍ YA PUEDES EJECTURAR EL CODIGO SIN MIEDO \"\"\"\n",
    "\"\"\" FINAL DE LA ESPERA, A PARTIR DE AQUÍ YA PUEDES EJECTURAR EL CODIGO SIN MIEDO \"\"\"\n",
    "\"\"\" FINAL DE LA ESPERA, A PARTIR DE AQUÍ YA PUEDES EJECTURAR EL CODIGO SIN MIEDO \"\"\"\n",
    "\"\"\" FINAL DE LA ESPERA, A PARTIR DE AQUÍ YA PUEDES EJECTURAR EL CODIGO SIN MIEDO \"\"\"\n",
    "\"\"\" FINAL DE LA ESPERA, A PARTIR DE AQUÍ YA PUEDES EJECTURAR EL CODIGO SIN MIEDO \"\"\"\n",
    "\"\"\" FINAL DE LA ESPERA, A PARTIR DE AQUÍ YA PUEDES EJECTURAR EL CODIGO SIN MIEDO \"\"\"\n",
    "\"\"\" FINAL DE LA ESPERA, A PARTIR DE AQUÍ YA PUEDES EJECTURAR EL CODIGO SIN MIEDO \"\"\"\n",
    "\"\"\" FINAL DE LA ESPERA, A PARTIR DE AQUÍ YA PUEDES EJECTURAR EL CODIGO SIN MIEDO \"\"\"\n",
    "\"\"\" FINAL DE LA ESPERA, A PARTIR DE AQUÍ YA PUEDES EJECTURAR EL CODIGO SIN MIEDO \"\"\"\n",
    "\"\"\" FINAL DE LA ESPERA, A PARTIR DE AQUÍ YA PUEDES EJECTURAR EL CODIGO SIN MIEDO \"\"\"\n",
    "\"\"\" FINAL DE LA ESPERA, A PARTIR DE AQUÍ YA PUEDES EJECTURAR EL CODIGO SIN MIEDO \"\"\"\n",
    "\"\"\" FINAL DE LA ESPERA, A PARTIR DE AQUÍ YA PUEDES EJECTURAR EL CODIGO SIN MIEDO \"\"\"\n",
    "\"\"\" FINAL DE LA ESPERA, A PARTIR DE AQUÍ YA PUEDES EJECTURAR EL CODIGO SIN MIEDO \"\"\"\n",
    "\"\"\" FINAL DE LA ESPERA, A PARTIR DE AQUÍ YA PUEDES EJECTURAR EL CODIGO SIN MIEDO \"\"\"\n",
    "\"\"\" FINAL DE LA ESPERA, A PARTIR DE AQUÍ YA PUEDES EJECTURAR EL CODIGO SIN MIEDO \"\"\"\n",
    "\"\"\" FINAL DE LA ESPERA, A PARTIR DE AQUÍ YA PUEDES EJECTURAR EL CODIGO SIN MIEDO \"\"\"\n"
   ]
  },
  {
   "cell_type": "markdown",
   "id": "ded77420-6a28-4a6e-82fc-7ce9ca189f06",
   "metadata": {},
   "source": [
    "---------------------------------------------------------------------------------------------"
   ]
  },
  {
   "cell_type": "markdown",
   "id": "e44360c4-bc7f-414c-9702-2be3928c9850",
   "metadata": {},
   "source": [
    "----------------------------------------------------------------------------------------------"
   ]
  },
  {
   "cell_type": "markdown",
   "id": "51cd0e91-c290-4875-9a4d-dd66504bf936",
   "metadata": {},
   "source": [
    "Filtrado de Datos de Galicia y Asignación de Estaciones Meteorológicas: ----------------------"
   ]
  },
  {
   "cell_type": "code",
   "execution_count": 73,
   "id": "f527412a-720a-4a57-a338-2d7f616db51f",
   "metadata": {
    "tags": []
   },
   "outputs": [],
   "source": [
    "import pandas as pd\n",
    "from geopy.geocoders import Nominatim\n",
    "from tqdm import tqdm"
   ]
  },
  {
   "cell_type": "code",
   "execution_count": 74,
   "id": "448c730f-ae06-4923-8943-5badec4ffb21",
   "metadata": {
    "tags": []
   },
   "outputs": [
    {
     "name": "stdout",
     "output_type": "stream",
     "text": [
      "Archivo CSV de incendios en Galicia guardado con éxito.\n"
     ]
    },
    {
     "name": "stderr",
     "output_type": "stream",
     "text": [
      "/var/folders/7s/xkdgs46x3k5636bxx89xwtqh0000gn/T/ipykernel_4872/3865383580.py:7: DtypeWarning: Columns (10) have mixed types. Specify dtype option on import or set low_memory=False.\n",
      "  df = pd.read_csv(fires_file_path)\n"
     ]
    },
    {
     "data": {
      "text/html": [
       "<div>\n",
       "<style scoped>\n",
       "    .dataframe tbody tr th:only-of-type {\n",
       "        vertical-align: middle;\n",
       "    }\n",
       "\n",
       "    .dataframe tbody tr th {\n",
       "        vertical-align: top;\n",
       "    }\n",
       "\n",
       "    .dataframe thead th {\n",
       "        text-align: right;\n",
       "    }\n",
       "</style>\n",
       "<table border=\"1\" class=\"dataframe\">\n",
       "  <thead>\n",
       "    <tr style=\"text-align: right;\">\n",
       "      <th></th>\n",
       "      <th>latitude</th>\n",
       "      <th>longitude</th>\n",
       "      <th>brightness</th>\n",
       "      <th>scan</th>\n",
       "      <th>track</th>\n",
       "      <th>acq_date</th>\n",
       "      <th>acq_time</th>\n",
       "      <th>satellite</th>\n",
       "      <th>instrument</th>\n",
       "      <th>confidence</th>\n",
       "      <th>version</th>\n",
       "      <th>bright_t31</th>\n",
       "      <th>frp</th>\n",
       "      <th>daynight</th>\n",
       "      <th>type</th>\n",
       "      <th>location_info</th>\n",
       "      <th>Provincia</th>\n",
       "      <th>Comunidad_Autonoma</th>\n",
       "    </tr>\n",
       "  </thead>\n",
       "  <tbody>\n",
       "    <tr>\n",
       "      <th>55</th>\n",
       "      <td>42.31990</td>\n",
       "      <td>-6.92590</td>\n",
       "      <td>302.60</td>\n",
       "      <td>1.10</td>\n",
       "      <td>1.00</td>\n",
       "      <td>2008-01-24</td>\n",
       "      <td>1118</td>\n",
       "      <td>Terra</td>\n",
       "      <td>MODIS</td>\n",
       "      <td>53</td>\n",
       "      <td>6.2</td>\n",
       "      <td>282.20</td>\n",
       "      <td>8.70</td>\n",
       "      <td>D</td>\n",
       "      <td>0.0</td>\n",
       "      <td>Valdemeao, Lamalonga, A Veiga, Valdeorras, Our...</td>\n",
       "      <td>Ourense</td>\n",
       "      <td>Galicia</td>\n",
       "    </tr>\n",
       "    <tr>\n",
       "      <th>57</th>\n",
       "      <td>42.32720</td>\n",
       "      <td>-6.93070</td>\n",
       "      <td>303.20</td>\n",
       "      <td>1.10</td>\n",
       "      <td>1.00</td>\n",
       "      <td>2008-01-24</td>\n",
       "      <td>1118</td>\n",
       "      <td>Terra</td>\n",
       "      <td>MODIS</td>\n",
       "      <td>55</td>\n",
       "      <td>6.2</td>\n",
       "      <td>281.70</td>\n",
       "      <td>8.60</td>\n",
       "      <td>D</td>\n",
       "      <td>0.0</td>\n",
       "      <td>Prado de Borraxes, Riodolas, Carballeda de Val...</td>\n",
       "      <td>Ourense</td>\n",
       "      <td>Galicia</td>\n",
       "    </tr>\n",
       "    <tr>\n",
       "      <th>62</th>\n",
       "      <td>42.31280</td>\n",
       "      <td>-6.92730</td>\n",
       "      <td>302.60</td>\n",
       "      <td>2.10</td>\n",
       "      <td>1.40</td>\n",
       "      <td>2008-01-24</td>\n",
       "      <td>1259</td>\n",
       "      <td>Aqua</td>\n",
       "      <td>MODIS</td>\n",
       "      <td>53</td>\n",
       "      <td>6.2</td>\n",
       "      <td>283.80</td>\n",
       "      <td>21.30</td>\n",
       "      <td>D</td>\n",
       "      <td>0.0</td>\n",
       "      <td>As Pedradas, Meixide, A Veiga, Valdeorras, Our...</td>\n",
       "      <td>Ourense</td>\n",
       "      <td>Galicia</td>\n",
       "    </tr>\n",
       "    <tr>\n",
       "      <th>78</th>\n",
       "      <td>42.14210</td>\n",
       "      <td>-7.15940</td>\n",
       "      <td>312.90</td>\n",
       "      <td>1.10</td>\n",
       "      <td>1.00</td>\n",
       "      <td>2008-01-25</td>\n",
       "      <td>1342</td>\n",
       "      <td>Aqua</td>\n",
       "      <td>MODIS</td>\n",
       "      <td>73</td>\n",
       "      <td>6.2</td>\n",
       "      <td>273.30</td>\n",
       "      <td>17.10</td>\n",
       "      <td>D</td>\n",
       "      <td>0.0</td>\n",
       "      <td>Estrada de Fornelos a Ardexarxe, Fornelos de F...</td>\n",
       "      <td>Ourense</td>\n",
       "      <td>Galicia</td>\n",
       "    </tr>\n",
       "    <tr>\n",
       "      <th>79</th>\n",
       "      <td>41.95550</td>\n",
       "      <td>-7.97160</td>\n",
       "      <td>303.30</td>\n",
       "      <td>1.00</td>\n",
       "      <td>1.00</td>\n",
       "      <td>2008-01-25</td>\n",
       "      <td>1342</td>\n",
       "      <td>Aqua</td>\n",
       "      <td>MODIS</td>\n",
       "      <td>52</td>\n",
       "      <td>6.2</td>\n",
       "      <td>283.60</td>\n",
       "      <td>7.30</td>\n",
       "      <td>D</td>\n",
       "      <td>0.0</td>\n",
       "      <td>OU-1205, Muíños, Mugueimes, A Baixa Limia, Our...</td>\n",
       "      <td>Ourense</td>\n",
       "      <td>Galicia</td>\n",
       "    </tr>\n",
       "    <tr>\n",
       "      <th>...</th>\n",
       "      <td>...</td>\n",
       "      <td>...</td>\n",
       "      <td>...</td>\n",
       "      <td>...</td>\n",
       "      <td>...</td>\n",
       "      <td>...</td>\n",
       "      <td>...</td>\n",
       "      <td>...</td>\n",
       "      <td>...</td>\n",
       "      <td>...</td>\n",
       "      <td>...</td>\n",
       "      <td>...</td>\n",
       "      <td>...</td>\n",
       "      <td>...</td>\n",
       "      <td>...</td>\n",
       "      <td>...</td>\n",
       "      <td>...</td>\n",
       "      <td>...</td>\n",
       "    </tr>\n",
       "    <tr>\n",
       "      <th>60247</th>\n",
       "      <td>42.20914</td>\n",
       "      <td>-7.22658</td>\n",
       "      <td>440.87</td>\n",
       "      <td>1.03</td>\n",
       "      <td>1.01</td>\n",
       "      <td>2023-10-12</td>\n",
       "      <td>2205</td>\n",
       "      <td>Terra</td>\n",
       "      <td>MODIS</td>\n",
       "      <td>100</td>\n",
       "      <td>6.1NRT</td>\n",
       "      <td>311.05</td>\n",
       "      <td>624.55</td>\n",
       "      <td>N</td>\n",
       "      <td>NaN</td>\n",
       "      <td>A Tapada Grande, Chaguazoso, Vilariño de Conso...</td>\n",
       "      <td>Ourense</td>\n",
       "      <td>Galicia</td>\n",
       "    </tr>\n",
       "    <tr>\n",
       "      <th>60248</th>\n",
       "      <td>42.20757</td>\n",
       "      <td>-7.23871</td>\n",
       "      <td>384.14</td>\n",
       "      <td>1.03</td>\n",
       "      <td>1.01</td>\n",
       "      <td>2023-10-12</td>\n",
       "      <td>2205</td>\n",
       "      <td>Terra</td>\n",
       "      <td>MODIS</td>\n",
       "      <td>100</td>\n",
       "      <td>6.1NRT</td>\n",
       "      <td>292.67</td>\n",
       "      <td>177.85</td>\n",
       "      <td>N</td>\n",
       "      <td>NaN</td>\n",
       "      <td>O Curro, Chaguazoso, Vilariño de Conso, Viana,...</td>\n",
       "      <td>Ourense</td>\n",
       "      <td>Galicia</td>\n",
       "    </tr>\n",
       "    <tr>\n",
       "      <th>60249</th>\n",
       "      <td>42.59256</td>\n",
       "      <td>-7.88508</td>\n",
       "      <td>307.07</td>\n",
       "      <td>1.01</td>\n",
       "      <td>1.00</td>\n",
       "      <td>2023-10-12</td>\n",
       "      <td>2205</td>\n",
       "      <td>Terra</td>\n",
       "      <td>MODIS</td>\n",
       "      <td>30</td>\n",
       "      <td>6.1NRT</td>\n",
       "      <td>285.03</td>\n",
       "      <td>9.24</td>\n",
       "      <td>N</td>\n",
       "      <td>NaN</td>\n",
       "      <td>O Vilar, Esmeriz, Chantada, Lugo, Galicia, 275...</td>\n",
       "      <td>Lugo</td>\n",
       "      <td>Galicia</td>\n",
       "    </tr>\n",
       "    <tr>\n",
       "      <th>60250</th>\n",
       "      <td>42.60135</td>\n",
       "      <td>-7.88741</td>\n",
       "      <td>346.99</td>\n",
       "      <td>1.01</td>\n",
       "      <td>1.00</td>\n",
       "      <td>2023-10-12</td>\n",
       "      <td>2205</td>\n",
       "      <td>Terra</td>\n",
       "      <td>MODIS</td>\n",
       "      <td>100</td>\n",
       "      <td>6.1NRT</td>\n",
       "      <td>289.12</td>\n",
       "      <td>58.94</td>\n",
       "      <td>N</td>\n",
       "      <td>NaN</td>\n",
       "      <td>Agro de Esmeriz, O Vilar, Esmeriz, Chantada, L...</td>\n",
       "      <td>Lugo</td>\n",
       "      <td>Galicia</td>\n",
       "    </tr>\n",
       "    <tr>\n",
       "      <th>60251</th>\n",
       "      <td>42.59971</td>\n",
       "      <td>-7.89952</td>\n",
       "      <td>317.12</td>\n",
       "      <td>1.01</td>\n",
       "      <td>1.00</td>\n",
       "      <td>2023-10-12</td>\n",
       "      <td>2205</td>\n",
       "      <td>Terra</td>\n",
       "      <td>MODIS</td>\n",
       "      <td>52</td>\n",
       "      <td>6.1NRT</td>\n",
       "      <td>284.12</td>\n",
       "      <td>16.74</td>\n",
       "      <td>N</td>\n",
       "      <td>NaN</td>\n",
       "      <td>O Vilar, Esmeriz, Chantada, Lugo, Galicia, 275...</td>\n",
       "      <td>Lugo</td>\n",
       "      <td>Galicia</td>\n",
       "    </tr>\n",
       "  </tbody>\n",
       "</table>\n",
       "<p>8472 rows × 18 columns</p>\n",
       "</div>"
      ],
      "text/plain": [
       "       latitude  longitude  brightness  scan  track    acq_date  acq_time  \\\n",
       "55     42.31990   -6.92590      302.60  1.10   1.00  2008-01-24      1118   \n",
       "57     42.32720   -6.93070      303.20  1.10   1.00  2008-01-24      1118   \n",
       "62     42.31280   -6.92730      302.60  2.10   1.40  2008-01-24      1259   \n",
       "78     42.14210   -7.15940      312.90  1.10   1.00  2008-01-25      1342   \n",
       "79     41.95550   -7.97160      303.30  1.00   1.00  2008-01-25      1342   \n",
       "...         ...        ...         ...   ...    ...         ...       ...   \n",
       "60247  42.20914   -7.22658      440.87  1.03   1.01  2023-10-12      2205   \n",
       "60248  42.20757   -7.23871      384.14  1.03   1.01  2023-10-12      2205   \n",
       "60249  42.59256   -7.88508      307.07  1.01   1.00  2023-10-12      2205   \n",
       "60250  42.60135   -7.88741      346.99  1.01   1.00  2023-10-12      2205   \n",
       "60251  42.59971   -7.89952      317.12  1.01   1.00  2023-10-12      2205   \n",
       "\n",
       "      satellite instrument  confidence version  bright_t31     frp daynight  \\\n",
       "55        Terra      MODIS          53     6.2      282.20    8.70        D   \n",
       "57        Terra      MODIS          55     6.2      281.70    8.60        D   \n",
       "62         Aqua      MODIS          53     6.2      283.80   21.30        D   \n",
       "78         Aqua      MODIS          73     6.2      273.30   17.10        D   \n",
       "79         Aqua      MODIS          52     6.2      283.60    7.30        D   \n",
       "...         ...        ...         ...     ...         ...     ...      ...   \n",
       "60247     Terra      MODIS         100  6.1NRT      311.05  624.55        N   \n",
       "60248     Terra      MODIS         100  6.1NRT      292.67  177.85        N   \n",
       "60249     Terra      MODIS          30  6.1NRT      285.03    9.24        N   \n",
       "60250     Terra      MODIS         100  6.1NRT      289.12   58.94        N   \n",
       "60251     Terra      MODIS          52  6.1NRT      284.12   16.74        N   \n",
       "\n",
       "       type                                      location_info Provincia  \\\n",
       "55      0.0  Valdemeao, Lamalonga, A Veiga, Valdeorras, Our...   Ourense   \n",
       "57      0.0  Prado de Borraxes, Riodolas, Carballeda de Val...   Ourense   \n",
       "62      0.0  As Pedradas, Meixide, A Veiga, Valdeorras, Our...   Ourense   \n",
       "78      0.0  Estrada de Fornelos a Ardexarxe, Fornelos de F...   Ourense   \n",
       "79      0.0  OU-1205, Muíños, Mugueimes, A Baixa Limia, Our...   Ourense   \n",
       "...     ...                                                ...       ...   \n",
       "60247   NaN  A Tapada Grande, Chaguazoso, Vilariño de Conso...   Ourense   \n",
       "60248   NaN  O Curro, Chaguazoso, Vilariño de Conso, Viana,...   Ourense   \n",
       "60249   NaN  O Vilar, Esmeriz, Chantada, Lugo, Galicia, 275...      Lugo   \n",
       "60250   NaN  Agro de Esmeriz, O Vilar, Esmeriz, Chantada, L...      Lugo   \n",
       "60251   NaN  O Vilar, Esmeriz, Chantada, Lugo, Galicia, 275...      Lugo   \n",
       "\n",
       "      Comunidad_Autonoma  \n",
       "55               Galicia  \n",
       "57               Galicia  \n",
       "62               Galicia  \n",
       "78               Galicia  \n",
       "79               Galicia  \n",
       "...                  ...  \n",
       "60247            Galicia  \n",
       "60248            Galicia  \n",
       "60249            Galicia  \n",
       "60250            Galicia  \n",
       "60251            Galicia  \n",
       "\n",
       "[8472 rows x 18 columns]"
      ]
     },
     "execution_count": 74,
     "metadata": {},
     "output_type": "execute_result"
    }
   ],
   "source": [
    "import pandas as pd\n",
    "\n",
    "# Ruta al archivo CSV original\n",
    "fires_file_path = 'Data/Data_Fires_location.csv'\n",
    "\n",
    "# Cargar el archivo CSV en un DataFrame\n",
    "df = pd.read_csv(fires_file_path)\n",
    "\n",
    "# Filtrar filas donde \"Comunidad_Autonoma\" sea igual a \"Galicia\"\n",
    "df_galicia = df[df['Comunidad_Autonoma'] == 'Galicia']\n",
    "\n",
    "# Guardar el DataFrame resultante en un archivo CSV\n",
    "output_file_path = 'Data/data_Galicia/Data_Fires_Galicia_location.csv'\n",
    "df_galicia.to_csv(output_file_path, index=False)\n",
    "\n",
    "print(\"Archivo CSV de incendios en Galicia guardado con éxito.\")\n",
    "\n",
    "df_galicia"
   ]
  },
  {
   "cell_type": "code",
   "execution_count": null,
   "id": "f17a2769-0ef4-4e1d-a83f-f4700531fd37",
   "metadata": {},
   "outputs": [],
   "source": []
  },
  {
   "cell_type": "markdown",
   "id": "248a716e-e09c-44fd-9419-78c71545a3f0",
   "metadata": {},
   "source": [
    "Añadir la estación más cercana a cada incendio"
   ]
  },
  {
   "cell_type": "code",
   "execution_count": 75,
   "id": "48064634-7dc2-45c8-9c2a-940195f25584",
   "metadata": {
    "tags": []
   },
   "outputs": [
    {
     "name": "stdout",
     "output_type": "stream",
     "text": [
      "{'Val do Dubra': (43.0101545, -8.6516271), 'Boiro': (42.6823024, -8.8909873), 'Lousame': (42.7733607, -8.832957073089341), 'Narón': (43.5010981, -8.1923091), 'Castrelo de Miño': (42.2965639, -8.065678393458727), 'A Veiga': (42.2507678, -7.0260508), 'Calvos de Randin': (41.92502975, -7.859098930350559), 'Ríos': (41.9745769, -7.2823706), 'Baleira': (43.05400255, -7.228073882860878), 'Mondoñedo': (43.4296687, -7.3638814), 'Antas de Ulla': (42.7674234, -7.8984065), 'Chantada': (42.6089783, -7.8218597), 'Ponteareas': (42.1741836, -8.5050427), 'Meis': (42.4996133, -8.724936507774776), 'O Rosal': (41.936991, -8.8370358), 'Lalín': (42.6513299, -8.154379)}\n"
     ]
    }
   ],
   "source": [
    "from geopy.geocoders import Nominatim\n",
    "\n",
    "geolocator = Nominatim(user_agent=\"prediccion_incendios\")\n",
    "\n",
    "lugares = [\"Val do Dubra, A Coruña, Spain\", \"Boiro, A Coruña, Spain\",\"Lousame, A Coruña, Spain\",\"Narón, A Coruña, Spain\", \n",
    "           \"Castrelo de Miño, Ourense, Spain\", \"A Veiga, Ourense, Spain\", \"Calvos de Randin, Ourense, Spain\", \"Ríos, Ourense, Spain\",\n",
    "           \"Baleira, Lugo, Spain\", \"Mondoñedo, Lugo, Spain\", \"Antas de Ulla, Lugo, Spain\", \"Chantada, Lugo, Spain\", \n",
    "            \"Ponteareas, Pontevedra, Spain\", \"Meis, Pontevedra, Spain\",  \"O Rosal, Pontevedra, Spain\", \"Lalín, Pontevedra, Spain\"]\n",
    "\n",
    "coordenadas = {}\n",
    "\n",
    "for lugar in lugares:\n",
    "    # Dividir la cadena en partes separadas por comas y obtener el primer elemento (el nombre del pueblo)\n",
    "    nombre_pueblo = lugar.split(',')[0]\n",
    "    \n",
    "    location = geolocator.geocode(lugar)\n",
    "    if location:\n",
    "        # Usar solo el nombre del pueblo como clave en el diccionario\n",
    "        coordenadas[nombre_pueblo] = (location.latitude, location.longitude)\n",
    "\n",
    "# Mostrar el diccionario con los nombres de los pueblos y sus coordenadas\n",
    "print(coordenadas)"
   ]
  },
  {
   "cell_type": "code",
   "execution_count": 78,
   "id": "e02e2aa4-49b9-4ee2-8499-0a5944958b9a",
   "metadata": {
    "tags": []
   },
   "outputs": [
    {
     "data": {
      "text/html": [
       "<div style=\"width:100%;\"><div style=\"position:relative;width:100%;height:0;padding-bottom:60%;\"><span style=\"color:#565656\">Make this Notebook Trusted to load map: File -> Trust Notebook</span><iframe srcdoc=\"&lt;!DOCTYPE html&gt;\n",
       "&lt;html&gt;\n",
       "&lt;head&gt;\n",
       "    \n",
       "    &lt;meta http-equiv=&quot;content-type&quot; content=&quot;text/html; charset=UTF-8&quot; /&gt;\n",
       "    \n",
       "        &lt;script&gt;\n",
       "            L_NO_TOUCH = false;\n",
       "            L_DISABLE_3D = false;\n",
       "        &lt;/script&gt;\n",
       "    \n",
       "    &lt;style&gt;html, body {width: 100%;height: 100%;margin: 0;padding: 0;}&lt;/style&gt;\n",
       "    &lt;style&gt;#map {position:absolute;top:0;bottom:0;right:0;left:0;}&lt;/style&gt;\n",
       "    &lt;script src=&quot;https://cdn.jsdelivr.net/npm/leaflet@1.9.3/dist/leaflet.js&quot;&gt;&lt;/script&gt;\n",
       "    &lt;script src=&quot;https://code.jquery.com/jquery-1.12.4.min.js&quot;&gt;&lt;/script&gt;\n",
       "    &lt;script src=&quot;https://cdn.jsdelivr.net/npm/bootstrap@5.2.2/dist/js/bootstrap.bundle.min.js&quot;&gt;&lt;/script&gt;\n",
       "    &lt;script src=&quot;https://cdnjs.cloudflare.com/ajax/libs/Leaflet.awesome-markers/2.0.2/leaflet.awesome-markers.js&quot;&gt;&lt;/script&gt;\n",
       "    &lt;link rel=&quot;stylesheet&quot; href=&quot;https://cdn.jsdelivr.net/npm/leaflet@1.9.3/dist/leaflet.css&quot;/&gt;\n",
       "    &lt;link rel=&quot;stylesheet&quot; href=&quot;https://cdn.jsdelivr.net/npm/bootstrap@5.2.2/dist/css/bootstrap.min.css&quot;/&gt;\n",
       "    &lt;link rel=&quot;stylesheet&quot; href=&quot;https://netdna.bootstrapcdn.com/bootstrap/3.0.0/css/bootstrap.min.css&quot;/&gt;\n",
       "    &lt;link rel=&quot;stylesheet&quot; href=&quot;https://cdn.jsdelivr.net/npm/@fortawesome/fontawesome-free@6.2.0/css/all.min.css&quot;/&gt;\n",
       "    &lt;link rel=&quot;stylesheet&quot; href=&quot;https://cdnjs.cloudflare.com/ajax/libs/Leaflet.awesome-markers/2.0.2/leaflet.awesome-markers.css&quot;/&gt;\n",
       "    &lt;link rel=&quot;stylesheet&quot; href=&quot;https://cdn.jsdelivr.net/gh/python-visualization/folium/folium/templates/leaflet.awesome.rotate.min.css&quot;/&gt;\n",
       "    \n",
       "            &lt;meta name=&quot;viewport&quot; content=&quot;width=device-width,\n",
       "                initial-scale=1.0, maximum-scale=1.0, user-scalable=no&quot; /&gt;\n",
       "            &lt;style&gt;\n",
       "                #map_7ee5b8dd1846512ac25c857c97e32ce6 {\n",
       "                    position: relative;\n",
       "                    width: 100.0%;\n",
       "                    height: 100.0%;\n",
       "                    left: 0.0%;\n",
       "                    top: 0.0%;\n",
       "                }\n",
       "                .leaflet-container { font-size: 1rem; }\n",
       "            &lt;/style&gt;\n",
       "        \n",
       "&lt;/head&gt;\n",
       "&lt;body&gt;\n",
       "    \n",
       "    \n",
       "            &lt;div class=&quot;folium-map&quot; id=&quot;map_7ee5b8dd1846512ac25c857c97e32ce6&quot; &gt;&lt;/div&gt;\n",
       "        \n",
       "&lt;/body&gt;\n",
       "&lt;script&gt;\n",
       "    \n",
       "    \n",
       "            var map_7ee5b8dd1846512ac25c857c97e32ce6 = L.map(\n",
       "                &quot;map_7ee5b8dd1846512ac25c857c97e32ce6&quot;,\n",
       "                {\n",
       "                    center: [42.5751, -8.1339],\n",
       "                    crs: L.CRS.EPSG3857,\n",
       "                    zoom: 9,\n",
       "                    zoomControl: true,\n",
       "                    preferCanvas: false,\n",
       "                }\n",
       "            );\n",
       "\n",
       "            \n",
       "\n",
       "        \n",
       "    \n",
       "            var tile_layer_29f87ce17c3fe175966a527e152fa5a8 = L.tileLayer(\n",
       "                &quot;https://{s}.tile.openstreetmap.org/{z}/{x}/{y}.png&quot;,\n",
       "                {&quot;attribution&quot;: &quot;Data by \\u0026copy; \\u003ca target=\\&quot;_blank\\&quot; href=\\&quot;http://openstreetmap.org\\&quot;\\u003eOpenStreetMap\\u003c/a\\u003e, under \\u003ca target=\\&quot;_blank\\&quot; href=\\&quot;http://www.openstreetmap.org/copyright\\&quot;\\u003eODbL\\u003c/a\\u003e.&quot;, &quot;detectRetina&quot;: false, &quot;maxNativeZoom&quot;: 18, &quot;maxZoom&quot;: 18, &quot;minZoom&quot;: 0, &quot;noWrap&quot;: false, &quot;opacity&quot;: 1, &quot;subdomains&quot;: &quot;abc&quot;, &quot;tms&quot;: false}\n",
       "            ).addTo(map_7ee5b8dd1846512ac25c857c97e32ce6);\n",
       "        \n",
       "    \n",
       "            var marker_eca22fe2ca2b4234f8dceb15119c70b3 = L.marker(\n",
       "                [43.0101545, -8.6516271],\n",
       "                {}\n",
       "            ).addTo(map_7ee5b8dd1846512ac25c857c97e32ce6);\n",
       "        \n",
       "    \n",
       "        var popup_2fc3c268f9b8cd5bf658bbfb2d39941f = L.popup({&quot;maxWidth&quot;: &quot;100%&quot;});\n",
       "\n",
       "        \n",
       "            \n",
       "                var html_b3cb2932195ccc15ee6260302e942ade = $(`&lt;div id=&quot;html_b3cb2932195ccc15ee6260302e942ade&quot; style=&quot;width: 100.0%; height: 100.0%;&quot;&gt;Val do Dubra&lt;/div&gt;`)[0];\n",
       "                popup_2fc3c268f9b8cd5bf658bbfb2d39941f.setContent(html_b3cb2932195ccc15ee6260302e942ade);\n",
       "            \n",
       "        \n",
       "\n",
       "        marker_eca22fe2ca2b4234f8dceb15119c70b3.bindPopup(popup_2fc3c268f9b8cd5bf658bbfb2d39941f)\n",
       "        ;\n",
       "\n",
       "        \n",
       "    \n",
       "    \n",
       "            var marker_a7433c9be25b54c3079c0fee62917a93 = L.marker(\n",
       "                [42.6823024, -8.8909873],\n",
       "                {}\n",
       "            ).addTo(map_7ee5b8dd1846512ac25c857c97e32ce6);\n",
       "        \n",
       "    \n",
       "        var popup_03457f2d0dba712b9a19bc1a0e1069ac = L.popup({&quot;maxWidth&quot;: &quot;100%&quot;});\n",
       "\n",
       "        \n",
       "            \n",
       "                var html_2a4c784cffba82d3a9227885dc9802cf = $(`&lt;div id=&quot;html_2a4c784cffba82d3a9227885dc9802cf&quot; style=&quot;width: 100.0%; height: 100.0%;&quot;&gt;Boiro&lt;/div&gt;`)[0];\n",
       "                popup_03457f2d0dba712b9a19bc1a0e1069ac.setContent(html_2a4c784cffba82d3a9227885dc9802cf);\n",
       "            \n",
       "        \n",
       "\n",
       "        marker_a7433c9be25b54c3079c0fee62917a93.bindPopup(popup_03457f2d0dba712b9a19bc1a0e1069ac)\n",
       "        ;\n",
       "\n",
       "        \n",
       "    \n",
       "    \n",
       "            var marker_aa76f10a00c0b1e9b1387e9b3ee563a3 = L.marker(\n",
       "                [42.7733607, -8.832957073089341],\n",
       "                {}\n",
       "            ).addTo(map_7ee5b8dd1846512ac25c857c97e32ce6);\n",
       "        \n",
       "    \n",
       "        var popup_ebec0b347a746e4371a86c3d8cf221d9 = L.popup({&quot;maxWidth&quot;: &quot;100%&quot;});\n",
       "\n",
       "        \n",
       "            \n",
       "                var html_d612a4cc82c0119132f5adb6a2715b9a = $(`&lt;div id=&quot;html_d612a4cc82c0119132f5adb6a2715b9a&quot; style=&quot;width: 100.0%; height: 100.0%;&quot;&gt;Lousame&lt;/div&gt;`)[0];\n",
       "                popup_ebec0b347a746e4371a86c3d8cf221d9.setContent(html_d612a4cc82c0119132f5adb6a2715b9a);\n",
       "            \n",
       "        \n",
       "\n",
       "        marker_aa76f10a00c0b1e9b1387e9b3ee563a3.bindPopup(popup_ebec0b347a746e4371a86c3d8cf221d9)\n",
       "        ;\n",
       "\n",
       "        \n",
       "    \n",
       "    \n",
       "            var marker_f7ddf48179730ad9af083ff0d945b845 = L.marker(\n",
       "                [43.5010981, -8.1923091],\n",
       "                {}\n",
       "            ).addTo(map_7ee5b8dd1846512ac25c857c97e32ce6);\n",
       "        \n",
       "    \n",
       "        var popup_3f7bddf87bfce8ed1f3cf28037865ee9 = L.popup({&quot;maxWidth&quot;: &quot;100%&quot;});\n",
       "\n",
       "        \n",
       "            \n",
       "                var html_971d4ff4bf4ec0f56372dfe8871cee13 = $(`&lt;div id=&quot;html_971d4ff4bf4ec0f56372dfe8871cee13&quot; style=&quot;width: 100.0%; height: 100.0%;&quot;&gt;Narón&lt;/div&gt;`)[0];\n",
       "                popup_3f7bddf87bfce8ed1f3cf28037865ee9.setContent(html_971d4ff4bf4ec0f56372dfe8871cee13);\n",
       "            \n",
       "        \n",
       "\n",
       "        marker_f7ddf48179730ad9af083ff0d945b845.bindPopup(popup_3f7bddf87bfce8ed1f3cf28037865ee9)\n",
       "        ;\n",
       "\n",
       "        \n",
       "    \n",
       "    \n",
       "            var marker_6bac862f926f26fe221fa8c5591af4e6 = L.marker(\n",
       "                [42.2965639, -8.065678393458727],\n",
       "                {}\n",
       "            ).addTo(map_7ee5b8dd1846512ac25c857c97e32ce6);\n",
       "        \n",
       "    \n",
       "        var popup_89fe8d73c0bf8b81f06a89ea05dc12a1 = L.popup({&quot;maxWidth&quot;: &quot;100%&quot;});\n",
       "\n",
       "        \n",
       "            \n",
       "                var html_a1ab95169177d472a4913975a76a2a12 = $(`&lt;div id=&quot;html_a1ab95169177d472a4913975a76a2a12&quot; style=&quot;width: 100.0%; height: 100.0%;&quot;&gt;Castrelo de Miño&lt;/div&gt;`)[0];\n",
       "                popup_89fe8d73c0bf8b81f06a89ea05dc12a1.setContent(html_a1ab95169177d472a4913975a76a2a12);\n",
       "            \n",
       "        \n",
       "\n",
       "        marker_6bac862f926f26fe221fa8c5591af4e6.bindPopup(popup_89fe8d73c0bf8b81f06a89ea05dc12a1)\n",
       "        ;\n",
       "\n",
       "        \n",
       "    \n",
       "    \n",
       "            var marker_1dd9b0e49062405179f71d553ab6f808 = L.marker(\n",
       "                [42.2507678, -7.0260508],\n",
       "                {}\n",
       "            ).addTo(map_7ee5b8dd1846512ac25c857c97e32ce6);\n",
       "        \n",
       "    \n",
       "        var popup_834a0201d961284bf7bfb1171c7cd713 = L.popup({&quot;maxWidth&quot;: &quot;100%&quot;});\n",
       "\n",
       "        \n",
       "            \n",
       "                var html_06976337ac0ca36d9877a915d0883b85 = $(`&lt;div id=&quot;html_06976337ac0ca36d9877a915d0883b85&quot; style=&quot;width: 100.0%; height: 100.0%;&quot;&gt;A Veiga&lt;/div&gt;`)[0];\n",
       "                popup_834a0201d961284bf7bfb1171c7cd713.setContent(html_06976337ac0ca36d9877a915d0883b85);\n",
       "            \n",
       "        \n",
       "\n",
       "        marker_1dd9b0e49062405179f71d553ab6f808.bindPopup(popup_834a0201d961284bf7bfb1171c7cd713)\n",
       "        ;\n",
       "\n",
       "        \n",
       "    \n",
       "    \n",
       "            var marker_b8e984803b2e7b3f93e439197a25fc6b = L.marker(\n",
       "                [41.92502975, -7.859098930350559],\n",
       "                {}\n",
       "            ).addTo(map_7ee5b8dd1846512ac25c857c97e32ce6);\n",
       "        \n",
       "    \n",
       "        var popup_ec7bf10fb276ee7f3e79d1b52edbf2a4 = L.popup({&quot;maxWidth&quot;: &quot;100%&quot;});\n",
       "\n",
       "        \n",
       "            \n",
       "                var html_6221d42d80b83bd95926950bba10ffc6 = $(`&lt;div id=&quot;html_6221d42d80b83bd95926950bba10ffc6&quot; style=&quot;width: 100.0%; height: 100.0%;&quot;&gt;Calvos de Randin&lt;/div&gt;`)[0];\n",
       "                popup_ec7bf10fb276ee7f3e79d1b52edbf2a4.setContent(html_6221d42d80b83bd95926950bba10ffc6);\n",
       "            \n",
       "        \n",
       "\n",
       "        marker_b8e984803b2e7b3f93e439197a25fc6b.bindPopup(popup_ec7bf10fb276ee7f3e79d1b52edbf2a4)\n",
       "        ;\n",
       "\n",
       "        \n",
       "    \n",
       "    \n",
       "            var marker_a3bda694ec864fe0bafca9fd8dfba257 = L.marker(\n",
       "                [41.9745769, -7.2823706],\n",
       "                {}\n",
       "            ).addTo(map_7ee5b8dd1846512ac25c857c97e32ce6);\n",
       "        \n",
       "    \n",
       "        var popup_10b006b5c4911946da56b6ab2a538117 = L.popup({&quot;maxWidth&quot;: &quot;100%&quot;});\n",
       "\n",
       "        \n",
       "            \n",
       "                var html_a372f6fcf2bd7cf07b9e1f8ac948e72d = $(`&lt;div id=&quot;html_a372f6fcf2bd7cf07b9e1f8ac948e72d&quot; style=&quot;width: 100.0%; height: 100.0%;&quot;&gt;Ríos&lt;/div&gt;`)[0];\n",
       "                popup_10b006b5c4911946da56b6ab2a538117.setContent(html_a372f6fcf2bd7cf07b9e1f8ac948e72d);\n",
       "            \n",
       "        \n",
       "\n",
       "        marker_a3bda694ec864fe0bafca9fd8dfba257.bindPopup(popup_10b006b5c4911946da56b6ab2a538117)\n",
       "        ;\n",
       "\n",
       "        \n",
       "    \n",
       "    \n",
       "            var marker_ccbfdc933b0f0266c47bd4d6ed591727 = L.marker(\n",
       "                [43.05400255, -7.228073882860878],\n",
       "                {}\n",
       "            ).addTo(map_7ee5b8dd1846512ac25c857c97e32ce6);\n",
       "        \n",
       "    \n",
       "        var popup_520e182ae8c9be59bc8e47101f7ffbc2 = L.popup({&quot;maxWidth&quot;: &quot;100%&quot;});\n",
       "\n",
       "        \n",
       "            \n",
       "                var html_924920a2f22993d0d25123c692c08a5a = $(`&lt;div id=&quot;html_924920a2f22993d0d25123c692c08a5a&quot; style=&quot;width: 100.0%; height: 100.0%;&quot;&gt;Baleira&lt;/div&gt;`)[0];\n",
       "                popup_520e182ae8c9be59bc8e47101f7ffbc2.setContent(html_924920a2f22993d0d25123c692c08a5a);\n",
       "            \n",
       "        \n",
       "\n",
       "        marker_ccbfdc933b0f0266c47bd4d6ed591727.bindPopup(popup_520e182ae8c9be59bc8e47101f7ffbc2)\n",
       "        ;\n",
       "\n",
       "        \n",
       "    \n",
       "    \n",
       "            var marker_bb1c2cc6050e731f1df01cf96598d129 = L.marker(\n",
       "                [43.4296687, -7.3638814],\n",
       "                {}\n",
       "            ).addTo(map_7ee5b8dd1846512ac25c857c97e32ce6);\n",
       "        \n",
       "    \n",
       "        var popup_0af3f1ad9f08ef2904193bc3d1f8032b = L.popup({&quot;maxWidth&quot;: &quot;100%&quot;});\n",
       "\n",
       "        \n",
       "            \n",
       "                var html_fa8ae19d30531006fc58bca1296e66f0 = $(`&lt;div id=&quot;html_fa8ae19d30531006fc58bca1296e66f0&quot; style=&quot;width: 100.0%; height: 100.0%;&quot;&gt;Mondoñedo&lt;/div&gt;`)[0];\n",
       "                popup_0af3f1ad9f08ef2904193bc3d1f8032b.setContent(html_fa8ae19d30531006fc58bca1296e66f0);\n",
       "            \n",
       "        \n",
       "\n",
       "        marker_bb1c2cc6050e731f1df01cf96598d129.bindPopup(popup_0af3f1ad9f08ef2904193bc3d1f8032b)\n",
       "        ;\n",
       "\n",
       "        \n",
       "    \n",
       "    \n",
       "            var marker_a576215461265401df35e3f2453b78c6 = L.marker(\n",
       "                [42.7674234, -7.8984065],\n",
       "                {}\n",
       "            ).addTo(map_7ee5b8dd1846512ac25c857c97e32ce6);\n",
       "        \n",
       "    \n",
       "        var popup_9982d4fe63ae60cfcb924d29c142b645 = L.popup({&quot;maxWidth&quot;: &quot;100%&quot;});\n",
       "\n",
       "        \n",
       "            \n",
       "                var html_346ca389f8d484cb5ea7fd97ae211156 = $(`&lt;div id=&quot;html_346ca389f8d484cb5ea7fd97ae211156&quot; style=&quot;width: 100.0%; height: 100.0%;&quot;&gt;Antas de Ulla&lt;/div&gt;`)[0];\n",
       "                popup_9982d4fe63ae60cfcb924d29c142b645.setContent(html_346ca389f8d484cb5ea7fd97ae211156);\n",
       "            \n",
       "        \n",
       "\n",
       "        marker_a576215461265401df35e3f2453b78c6.bindPopup(popup_9982d4fe63ae60cfcb924d29c142b645)\n",
       "        ;\n",
       "\n",
       "        \n",
       "    \n",
       "    \n",
       "            var marker_4be4376e570737212aedc5ce2512d66b = L.marker(\n",
       "                [42.6089783, -7.8218597],\n",
       "                {}\n",
       "            ).addTo(map_7ee5b8dd1846512ac25c857c97e32ce6);\n",
       "        \n",
       "    \n",
       "        var popup_954e192fba50d381190ec00ee60a636d = L.popup({&quot;maxWidth&quot;: &quot;100%&quot;});\n",
       "\n",
       "        \n",
       "            \n",
       "                var html_f7e0b75d8d2a1a6b4bc685d3c4d82bc2 = $(`&lt;div id=&quot;html_f7e0b75d8d2a1a6b4bc685d3c4d82bc2&quot; style=&quot;width: 100.0%; height: 100.0%;&quot;&gt;Chantada&lt;/div&gt;`)[0];\n",
       "                popup_954e192fba50d381190ec00ee60a636d.setContent(html_f7e0b75d8d2a1a6b4bc685d3c4d82bc2);\n",
       "            \n",
       "        \n",
       "\n",
       "        marker_4be4376e570737212aedc5ce2512d66b.bindPopup(popup_954e192fba50d381190ec00ee60a636d)\n",
       "        ;\n",
       "\n",
       "        \n",
       "    \n",
       "    \n",
       "            var marker_f0f8d70058ab1fa89e3fa7e6cf57c9de = L.marker(\n",
       "                [42.1741836, -8.5050427],\n",
       "                {}\n",
       "            ).addTo(map_7ee5b8dd1846512ac25c857c97e32ce6);\n",
       "        \n",
       "    \n",
       "        var popup_8979467a44956397f55c99092b809ae2 = L.popup({&quot;maxWidth&quot;: &quot;100%&quot;});\n",
       "\n",
       "        \n",
       "            \n",
       "                var html_1acf6039c0d65ad3a1cd7a9ac92693b8 = $(`&lt;div id=&quot;html_1acf6039c0d65ad3a1cd7a9ac92693b8&quot; style=&quot;width: 100.0%; height: 100.0%;&quot;&gt;Ponteareas&lt;/div&gt;`)[0];\n",
       "                popup_8979467a44956397f55c99092b809ae2.setContent(html_1acf6039c0d65ad3a1cd7a9ac92693b8);\n",
       "            \n",
       "        \n",
       "\n",
       "        marker_f0f8d70058ab1fa89e3fa7e6cf57c9de.bindPopup(popup_8979467a44956397f55c99092b809ae2)\n",
       "        ;\n",
       "\n",
       "        \n",
       "    \n",
       "    \n",
       "            var marker_7b7777fce3099752b06ed0911eaa02ba = L.marker(\n",
       "                [42.4996133, -8.724936507774776],\n",
       "                {}\n",
       "            ).addTo(map_7ee5b8dd1846512ac25c857c97e32ce6);\n",
       "        \n",
       "    \n",
       "        var popup_8aed08dd482d2c34a70ec643d7e6a3ef = L.popup({&quot;maxWidth&quot;: &quot;100%&quot;});\n",
       "\n",
       "        \n",
       "            \n",
       "                var html_58d69504188dcdeac14e2031c4ff1ce8 = $(`&lt;div id=&quot;html_58d69504188dcdeac14e2031c4ff1ce8&quot; style=&quot;width: 100.0%; height: 100.0%;&quot;&gt;Meis&lt;/div&gt;`)[0];\n",
       "                popup_8aed08dd482d2c34a70ec643d7e6a3ef.setContent(html_58d69504188dcdeac14e2031c4ff1ce8);\n",
       "            \n",
       "        \n",
       "\n",
       "        marker_7b7777fce3099752b06ed0911eaa02ba.bindPopup(popup_8aed08dd482d2c34a70ec643d7e6a3ef)\n",
       "        ;\n",
       "\n",
       "        \n",
       "    \n",
       "    \n",
       "            var marker_59e681ac15039cb49f5b9151d563913a = L.marker(\n",
       "                [41.936991, -8.8370358],\n",
       "                {}\n",
       "            ).addTo(map_7ee5b8dd1846512ac25c857c97e32ce6);\n",
       "        \n",
       "    \n",
       "        var popup_d09d494fceaf51cdc9184dbe5d971470 = L.popup({&quot;maxWidth&quot;: &quot;100%&quot;});\n",
       "\n",
       "        \n",
       "            \n",
       "                var html_fff0b6d2d8ce10dd226bd6ee84454abd = $(`&lt;div id=&quot;html_fff0b6d2d8ce10dd226bd6ee84454abd&quot; style=&quot;width: 100.0%; height: 100.0%;&quot;&gt;O Rosal&lt;/div&gt;`)[0];\n",
       "                popup_d09d494fceaf51cdc9184dbe5d971470.setContent(html_fff0b6d2d8ce10dd226bd6ee84454abd);\n",
       "            \n",
       "        \n",
       "\n",
       "        marker_59e681ac15039cb49f5b9151d563913a.bindPopup(popup_d09d494fceaf51cdc9184dbe5d971470)\n",
       "        ;\n",
       "\n",
       "        \n",
       "    \n",
       "    \n",
       "            var marker_9bcb236bf53ffe4b6e53797fed52eac9 = L.marker(\n",
       "                [42.6513299, -8.154379],\n",
       "                {}\n",
       "            ).addTo(map_7ee5b8dd1846512ac25c857c97e32ce6);\n",
       "        \n",
       "    \n",
       "        var popup_a98546450aae7f8e0240b29df18229cd = L.popup({&quot;maxWidth&quot;: &quot;100%&quot;});\n",
       "\n",
       "        \n",
       "            \n",
       "                var html_e99a0150a844077fa4cd8e1141ff68bc = $(`&lt;div id=&quot;html_e99a0150a844077fa4cd8e1141ff68bc&quot; style=&quot;width: 100.0%; height: 100.0%;&quot;&gt;Lalín&lt;/div&gt;`)[0];\n",
       "                popup_a98546450aae7f8e0240b29df18229cd.setContent(html_e99a0150a844077fa4cd8e1141ff68bc);\n",
       "            \n",
       "        \n",
       "\n",
       "        marker_9bcb236bf53ffe4b6e53797fed52eac9.bindPopup(popup_a98546450aae7f8e0240b29df18229cd)\n",
       "        ;\n",
       "\n",
       "        \n",
       "    \n",
       "&lt;/script&gt;\n",
       "&lt;/html&gt;\" style=\"position:absolute;width:100%;height:100%;left:0;top:0;border:none !important;\" allowfullscreen webkitallowfullscreen mozallowfullscreen></iframe></div></div>"
      ],
      "text/plain": [
       "<folium.folium.Map at 0x126a05d50>"
      ]
     },
     "execution_count": 78,
     "metadata": {},
     "output_type": "execute_result"
    }
   ],
   "source": [
    "import folium\n",
    "\n",
    "# Coordenadas centrales de Galicia para centrar el mapa\n",
    "lat_galicia = 42.5751\n",
    "lon_galicia = -8.1339\n",
    "\n",
    "# Crear el mapa centrado en Galicia\n",
    "mapa = folium.Map(location=[lat_galicia, lon_galicia], zoom_start=9)\n",
    "\n",
    "# Agregar marcadores para cada ubicación en el diccionario de coordenadas\n",
    "for lugar, coordenada in coordenadas.items():\n",
    "    folium.Marker(coordenada, popup=lugar).add_to(mapa)\n",
    "\n",
    "# Mostrar el mapa\n",
    "mapa\n"
   ]
  },
  {
   "cell_type": "code",
   "execution_count": 109,
   "id": "2200f841-00ed-4ed1-a66d-33c7792c0582",
   "metadata": {
    "tags": []
   },
   "outputs": [],
   "source": [
    "# Cargar el dataset\n",
    "file_path = 'Data/data_Galicia/Data_Fires_Galicia_location.csv'\n",
    "df = pd.read_csv(file_path)\n"
   ]
  },
  {
   "cell_type": "code",
   "execution_count": 110,
   "id": "5b3af2f8-d506-4425-b907-737ffa858c90",
   "metadata": {
    "tags": []
   },
   "outputs": [
    {
     "name": "stderr",
     "output_type": "stream",
     "text": [
      "100%|██████████| 8472/8472 [00:23<00:00, 354.89it/s]\n"
     ]
    },
    {
     "data": {
      "text/html": [
       "<div>\n",
       "<style scoped>\n",
       "    .dataframe tbody tr th:only-of-type {\n",
       "        vertical-align: middle;\n",
       "    }\n",
       "\n",
       "    .dataframe tbody tr th {\n",
       "        vertical-align: top;\n",
       "    }\n",
       "\n",
       "    .dataframe thead th {\n",
       "        text-align: right;\n",
       "    }\n",
       "</style>\n",
       "<table border=\"1\" class=\"dataframe\">\n",
       "  <thead>\n",
       "    <tr style=\"text-align: right;\">\n",
       "      <th></th>\n",
       "      <th>latitude</th>\n",
       "      <th>longitude</th>\n",
       "      <th>brightness</th>\n",
       "      <th>scan</th>\n",
       "      <th>track</th>\n",
       "      <th>acq_date</th>\n",
       "      <th>acq_time</th>\n",
       "      <th>satellite</th>\n",
       "      <th>instrument</th>\n",
       "      <th>confidence</th>\n",
       "      <th>version</th>\n",
       "      <th>bright_t31</th>\n",
       "      <th>frp</th>\n",
       "      <th>daynight</th>\n",
       "      <th>type</th>\n",
       "      <th>location_info</th>\n",
       "      <th>Provincia</th>\n",
       "      <th>Comunidad_Autonoma</th>\n",
       "      <th>Estacion</th>\n",
       "    </tr>\n",
       "  </thead>\n",
       "  <tbody>\n",
       "    <tr>\n",
       "      <th>0</th>\n",
       "      <td>42.31990</td>\n",
       "      <td>-6.92590</td>\n",
       "      <td>302.60</td>\n",
       "      <td>1.10</td>\n",
       "      <td>1.00</td>\n",
       "      <td>2008-01-24</td>\n",
       "      <td>1118</td>\n",
       "      <td>Terra</td>\n",
       "      <td>MODIS</td>\n",
       "      <td>53</td>\n",
       "      <td>6.2</td>\n",
       "      <td>282.20</td>\n",
       "      <td>8.70</td>\n",
       "      <td>D</td>\n",
       "      <td>0.0</td>\n",
       "      <td>Valdemeao, Lamalonga, A Veiga, Valdeorras, Our...</td>\n",
       "      <td>Ourense</td>\n",
       "      <td>Galicia</td>\n",
       "      <td>A Veiga</td>\n",
       "    </tr>\n",
       "    <tr>\n",
       "      <th>1</th>\n",
       "      <td>42.32720</td>\n",
       "      <td>-6.93070</td>\n",
       "      <td>303.20</td>\n",
       "      <td>1.10</td>\n",
       "      <td>1.00</td>\n",
       "      <td>2008-01-24</td>\n",
       "      <td>1118</td>\n",
       "      <td>Terra</td>\n",
       "      <td>MODIS</td>\n",
       "      <td>55</td>\n",
       "      <td>6.2</td>\n",
       "      <td>281.70</td>\n",
       "      <td>8.60</td>\n",
       "      <td>D</td>\n",
       "      <td>0.0</td>\n",
       "      <td>Prado de Borraxes, Riodolas, Carballeda de Val...</td>\n",
       "      <td>Ourense</td>\n",
       "      <td>Galicia</td>\n",
       "      <td>A Veiga</td>\n",
       "    </tr>\n",
       "    <tr>\n",
       "      <th>2</th>\n",
       "      <td>42.31280</td>\n",
       "      <td>-6.92730</td>\n",
       "      <td>302.60</td>\n",
       "      <td>2.10</td>\n",
       "      <td>1.40</td>\n",
       "      <td>2008-01-24</td>\n",
       "      <td>1259</td>\n",
       "      <td>Aqua</td>\n",
       "      <td>MODIS</td>\n",
       "      <td>53</td>\n",
       "      <td>6.2</td>\n",
       "      <td>283.80</td>\n",
       "      <td>21.30</td>\n",
       "      <td>D</td>\n",
       "      <td>0.0</td>\n",
       "      <td>As Pedradas, Meixide, A Veiga, Valdeorras, Our...</td>\n",
       "      <td>Ourense</td>\n",
       "      <td>Galicia</td>\n",
       "      <td>A Veiga</td>\n",
       "    </tr>\n",
       "    <tr>\n",
       "      <th>3</th>\n",
       "      <td>42.14210</td>\n",
       "      <td>-7.15940</td>\n",
       "      <td>312.90</td>\n",
       "      <td>1.10</td>\n",
       "      <td>1.00</td>\n",
       "      <td>2008-01-25</td>\n",
       "      <td>1342</td>\n",
       "      <td>Aqua</td>\n",
       "      <td>MODIS</td>\n",
       "      <td>73</td>\n",
       "      <td>6.2</td>\n",
       "      <td>273.30</td>\n",
       "      <td>17.10</td>\n",
       "      <td>D</td>\n",
       "      <td>0.0</td>\n",
       "      <td>Estrada de Fornelos a Ardexarxe, Fornelos de F...</td>\n",
       "      <td>Ourense</td>\n",
       "      <td>Galicia</td>\n",
       "      <td>A Veiga</td>\n",
       "    </tr>\n",
       "    <tr>\n",
       "      <th>4</th>\n",
       "      <td>41.95550</td>\n",
       "      <td>-7.97160</td>\n",
       "      <td>303.30</td>\n",
       "      <td>1.00</td>\n",
       "      <td>1.00</td>\n",
       "      <td>2008-01-25</td>\n",
       "      <td>1342</td>\n",
       "      <td>Aqua</td>\n",
       "      <td>MODIS</td>\n",
       "      <td>52</td>\n",
       "      <td>6.2</td>\n",
       "      <td>283.60</td>\n",
       "      <td>7.30</td>\n",
       "      <td>D</td>\n",
       "      <td>0.0</td>\n",
       "      <td>OU-1205, Muíños, Mugueimes, A Baixa Limia, Our...</td>\n",
       "      <td>Ourense</td>\n",
       "      <td>Galicia</td>\n",
       "      <td>Calvos de Randin</td>\n",
       "    </tr>\n",
       "    <tr>\n",
       "      <th>...</th>\n",
       "      <td>...</td>\n",
       "      <td>...</td>\n",
       "      <td>...</td>\n",
       "      <td>...</td>\n",
       "      <td>...</td>\n",
       "      <td>...</td>\n",
       "      <td>...</td>\n",
       "      <td>...</td>\n",
       "      <td>...</td>\n",
       "      <td>...</td>\n",
       "      <td>...</td>\n",
       "      <td>...</td>\n",
       "      <td>...</td>\n",
       "      <td>...</td>\n",
       "      <td>...</td>\n",
       "      <td>...</td>\n",
       "      <td>...</td>\n",
       "      <td>...</td>\n",
       "      <td>...</td>\n",
       "    </tr>\n",
       "    <tr>\n",
       "      <th>8467</th>\n",
       "      <td>42.20914</td>\n",
       "      <td>-7.22658</td>\n",
       "      <td>440.87</td>\n",
       "      <td>1.03</td>\n",
       "      <td>1.01</td>\n",
       "      <td>2023-10-12</td>\n",
       "      <td>2205</td>\n",
       "      <td>Terra</td>\n",
       "      <td>MODIS</td>\n",
       "      <td>100</td>\n",
       "      <td>6.1NRT</td>\n",
       "      <td>311.05</td>\n",
       "      <td>624.55</td>\n",
       "      <td>N</td>\n",
       "      <td>NaN</td>\n",
       "      <td>A Tapada Grande, Chaguazoso, Vilariño de Conso...</td>\n",
       "      <td>Ourense</td>\n",
       "      <td>Galicia</td>\n",
       "      <td>A Veiga</td>\n",
       "    </tr>\n",
       "    <tr>\n",
       "      <th>8468</th>\n",
       "      <td>42.20757</td>\n",
       "      <td>-7.23871</td>\n",
       "      <td>384.14</td>\n",
       "      <td>1.03</td>\n",
       "      <td>1.01</td>\n",
       "      <td>2023-10-12</td>\n",
       "      <td>2205</td>\n",
       "      <td>Terra</td>\n",
       "      <td>MODIS</td>\n",
       "      <td>100</td>\n",
       "      <td>6.1NRT</td>\n",
       "      <td>292.67</td>\n",
       "      <td>177.85</td>\n",
       "      <td>N</td>\n",
       "      <td>NaN</td>\n",
       "      <td>O Curro, Chaguazoso, Vilariño de Conso, Viana,...</td>\n",
       "      <td>Ourense</td>\n",
       "      <td>Galicia</td>\n",
       "      <td>A Veiga</td>\n",
       "    </tr>\n",
       "    <tr>\n",
       "      <th>8469</th>\n",
       "      <td>42.59256</td>\n",
       "      <td>-7.88508</td>\n",
       "      <td>307.07</td>\n",
       "      <td>1.01</td>\n",
       "      <td>1.00</td>\n",
       "      <td>2023-10-12</td>\n",
       "      <td>2205</td>\n",
       "      <td>Terra</td>\n",
       "      <td>MODIS</td>\n",
       "      <td>30</td>\n",
       "      <td>6.1NRT</td>\n",
       "      <td>285.03</td>\n",
       "      <td>9.24</td>\n",
       "      <td>N</td>\n",
       "      <td>NaN</td>\n",
       "      <td>O Vilar, Esmeriz, Chantada, Lugo, Galicia, 275...</td>\n",
       "      <td>Lugo</td>\n",
       "      <td>Galicia</td>\n",
       "      <td>Chantada</td>\n",
       "    </tr>\n",
       "    <tr>\n",
       "      <th>8470</th>\n",
       "      <td>42.60135</td>\n",
       "      <td>-7.88741</td>\n",
       "      <td>346.99</td>\n",
       "      <td>1.01</td>\n",
       "      <td>1.00</td>\n",
       "      <td>2023-10-12</td>\n",
       "      <td>2205</td>\n",
       "      <td>Terra</td>\n",
       "      <td>MODIS</td>\n",
       "      <td>100</td>\n",
       "      <td>6.1NRT</td>\n",
       "      <td>289.12</td>\n",
       "      <td>58.94</td>\n",
       "      <td>N</td>\n",
       "      <td>NaN</td>\n",
       "      <td>Agro de Esmeriz, O Vilar, Esmeriz, Chantada, L...</td>\n",
       "      <td>Lugo</td>\n",
       "      <td>Galicia</td>\n",
       "      <td>Chantada</td>\n",
       "    </tr>\n",
       "    <tr>\n",
       "      <th>8471</th>\n",
       "      <td>42.59971</td>\n",
       "      <td>-7.89952</td>\n",
       "      <td>317.12</td>\n",
       "      <td>1.01</td>\n",
       "      <td>1.00</td>\n",
       "      <td>2023-10-12</td>\n",
       "      <td>2205</td>\n",
       "      <td>Terra</td>\n",
       "      <td>MODIS</td>\n",
       "      <td>52</td>\n",
       "      <td>6.1NRT</td>\n",
       "      <td>284.12</td>\n",
       "      <td>16.74</td>\n",
       "      <td>N</td>\n",
       "      <td>NaN</td>\n",
       "      <td>O Vilar, Esmeriz, Chantada, Lugo, Galicia, 275...</td>\n",
       "      <td>Lugo</td>\n",
       "      <td>Galicia</td>\n",
       "      <td>Chantada</td>\n",
       "    </tr>\n",
       "  </tbody>\n",
       "</table>\n",
       "<p>8472 rows × 19 columns</p>\n",
       "</div>"
      ],
      "text/plain": [
       "      latitude  longitude  brightness  scan  track    acq_date  acq_time  \\\n",
       "0     42.31990   -6.92590      302.60  1.10   1.00  2008-01-24      1118   \n",
       "1     42.32720   -6.93070      303.20  1.10   1.00  2008-01-24      1118   \n",
       "2     42.31280   -6.92730      302.60  2.10   1.40  2008-01-24      1259   \n",
       "3     42.14210   -7.15940      312.90  1.10   1.00  2008-01-25      1342   \n",
       "4     41.95550   -7.97160      303.30  1.00   1.00  2008-01-25      1342   \n",
       "...        ...        ...         ...   ...    ...         ...       ...   \n",
       "8467  42.20914   -7.22658      440.87  1.03   1.01  2023-10-12      2205   \n",
       "8468  42.20757   -7.23871      384.14  1.03   1.01  2023-10-12      2205   \n",
       "8469  42.59256   -7.88508      307.07  1.01   1.00  2023-10-12      2205   \n",
       "8470  42.60135   -7.88741      346.99  1.01   1.00  2023-10-12      2205   \n",
       "8471  42.59971   -7.89952      317.12  1.01   1.00  2023-10-12      2205   \n",
       "\n",
       "     satellite instrument  confidence version  bright_t31     frp daynight  \\\n",
       "0        Terra      MODIS          53     6.2      282.20    8.70        D   \n",
       "1        Terra      MODIS          55     6.2      281.70    8.60        D   \n",
       "2         Aqua      MODIS          53     6.2      283.80   21.30        D   \n",
       "3         Aqua      MODIS          73     6.2      273.30   17.10        D   \n",
       "4         Aqua      MODIS          52     6.2      283.60    7.30        D   \n",
       "...        ...        ...         ...     ...         ...     ...      ...   \n",
       "8467     Terra      MODIS         100  6.1NRT      311.05  624.55        N   \n",
       "8468     Terra      MODIS         100  6.1NRT      292.67  177.85        N   \n",
       "8469     Terra      MODIS          30  6.1NRT      285.03    9.24        N   \n",
       "8470     Terra      MODIS         100  6.1NRT      289.12   58.94        N   \n",
       "8471     Terra      MODIS          52  6.1NRT      284.12   16.74        N   \n",
       "\n",
       "      type                                      location_info Provincia  \\\n",
       "0      0.0  Valdemeao, Lamalonga, A Veiga, Valdeorras, Our...   Ourense   \n",
       "1      0.0  Prado de Borraxes, Riodolas, Carballeda de Val...   Ourense   \n",
       "2      0.0  As Pedradas, Meixide, A Veiga, Valdeorras, Our...   Ourense   \n",
       "3      0.0  Estrada de Fornelos a Ardexarxe, Fornelos de F...   Ourense   \n",
       "4      0.0  OU-1205, Muíños, Mugueimes, A Baixa Limia, Our...   Ourense   \n",
       "...    ...                                                ...       ...   \n",
       "8467   NaN  A Tapada Grande, Chaguazoso, Vilariño de Conso...   Ourense   \n",
       "8468   NaN  O Curro, Chaguazoso, Vilariño de Conso, Viana,...   Ourense   \n",
       "8469   NaN  O Vilar, Esmeriz, Chantada, Lugo, Galicia, 275...      Lugo   \n",
       "8470   NaN  Agro de Esmeriz, O Vilar, Esmeriz, Chantada, L...      Lugo   \n",
       "8471   NaN  O Vilar, Esmeriz, Chantada, Lugo, Galicia, 275...      Lugo   \n",
       "\n",
       "     Comunidad_Autonoma          Estacion  \n",
       "0               Galicia           A Veiga  \n",
       "1               Galicia           A Veiga  \n",
       "2               Galicia           A Veiga  \n",
       "3               Galicia           A Veiga  \n",
       "4               Galicia  Calvos de Randin  \n",
       "...                 ...               ...  \n",
       "8467            Galicia           A Veiga  \n",
       "8468            Galicia           A Veiga  \n",
       "8469            Galicia          Chantada  \n",
       "8470            Galicia          Chantada  \n",
       "8471            Galicia          Chantada  \n",
       "\n",
       "[8472 rows x 19 columns]"
      ]
     },
     "execution_count": 110,
     "metadata": {},
     "output_type": "execute_result"
    }
   ],
   "source": [
    "from geopy.distance import geodesic\n",
    "from tqdm import tqdm\n",
    "\n",
    "# Crear una función para encontrar la estación más cercana\n",
    "def estacion_mas_cercana(row):\n",
    "    distancias = {}\n",
    "    for lugar, coordenada in coordenadas.items():\n",
    "        distancias[lugar] = geodesic((row['latitude'], row['longitude']), coordenada).kilometers\n",
    "    estacion_cercana = min(distancias, key=distancias.get)\n",
    "    return estacion_cercana\n",
    "\n",
    "# Aplicar la función a cada fila del DataFrame para encontrar la estación más cercana\n",
    "df['Estacion'] = ''\n",
    "\n",
    "for idx, row in tqdm(df.iterrows(), total=len(df)):\n",
    "    df.at[idx, 'Estacion'] = estacion_mas_cercana(row)\n",
    "    \n",
    "df"
   ]
  },
  {
   "cell_type": "code",
   "execution_count": 123,
   "id": "35a4da8f-899a-4b32-a7a3-70f45c67d331",
   "metadata": {
    "tags": []
   },
   "outputs": [],
   "source": [
    "# Guardar el DataFrame resultante en un archivo CSV\n",
    "output_file_path = 'Data/data_Galicia/Data_Fires_Galicia_Station.csv'\n",
    "df.to_csv(output_file_path, index=False)"
   ]
  },
  {
   "cell_type": "code",
   "execution_count": null,
   "id": "ddf279f4-d51e-4c60-bd0a-1d7f483061b7",
   "metadata": {},
   "outputs": [],
   "source": []
  },
  {
   "cell_type": "markdown",
   "id": "651ec8b3-f0e3-4d84-8bfd-9950f5a586fa",
   "metadata": {},
   "source": [
    "----------------------------------------------------------------------------------------------------------------------------------------------------------------"
   ]
  },
  {
   "cell_type": "markdown",
   "id": "824a73d6-5622-4848-9948-3d19dde7dcf5",
   "metadata": {},
   "source": [
    "Código para unir todos las variables climáticas que encuentra dentro de la carpeta de estaciones metorológicas, dentro de cada provincia de forma automática"
   ]
  },
  {
   "cell_type": "code",
   "execution_count": 135,
   "id": "c3c635f5-42ed-42ac-b678-7802f3607a02",
   "metadata": {
    "tags": []
   },
   "outputs": [
    {
     "data": {
      "application/vnd.jupyter.widget-view+json": {
       "model_id": "3432cdd9ac344fcab0fc2b5f1ea95196",
       "version_major": 2,
       "version_minor": 0
      },
      "text/plain": [
       "Provincias:   0%|          | 0/5 [00:00<?, ?it/s]"
      ]
     },
     "metadata": {},
     "output_type": "display_data"
    },
    {
     "data": {
      "application/vnd.jupyter.widget-view+json": {
       "model_id": "",
       "version_major": 2,
       "version_minor": 0
      },
      "text/plain": [
       "Estaciones en CO:   0%|          | 0/5 [00:00<?, ?it/s]"
      ]
     },
     "metadata": {},
     "output_type": "display_data"
    },
    {
     "data": {
      "application/vnd.jupyter.widget-view+json": {
       "model_id": "",
       "version_major": 2,
       "version_minor": 0
      },
      "text/plain": [
       "Estaciones en PO:   0%|          | 0/5 [00:00<?, ?it/s]"
      ]
     },
     "metadata": {},
     "output_type": "display_data"
    },
    {
     "data": {
      "application/vnd.jupyter.widget-view+json": {
       "model_id": "",
       "version_major": 2,
       "version_minor": 0
      },
      "text/plain": [
       "Estaciones en LU:   0%|          | 0/5 [00:00<?, ?it/s]"
      ]
     },
     "metadata": {},
     "output_type": "display_data"
    },
    {
     "data": {
      "application/vnd.jupyter.widget-view+json": {
       "model_id": "",
       "version_major": 2,
       "version_minor": 0
      },
      "text/plain": [
       "Estaciones en OU:   0%|          | 0/5 [00:00<?, ?it/s]"
      ]
     },
     "metadata": {},
     "output_type": "display_data"
    },
    {
     "name": "stdout",
     "output_type": "stream",
     "text": [
      "Proceso completado. Número total de provincias procesadas: 4.\n",
      "Número total de estaciones meteorológicas procesadas: 16.\n"
     ]
    }
   ],
   "source": [
    "import pandas as pd\n",
    "import os\n",
    "from tqdm.auto import tqdm\n",
    "\n",
    "def encontrar_carpeta(base_dir, nombre_carpeta):\n",
    "    for root, dirs, _ in os.walk(base_dir):\n",
    "        if nombre_carpeta in dirs:\n",
    "            return os.path.join(root, nombre_carpeta)\n",
    "    return None\n",
    "\n",
    "base_dir = \"Data/data_clima\"\n",
    "provincias_dir = encontrar_carpeta(base_dir, 'provincias')\n",
    "if not provincias_dir:\n",
    "    raise Exception(f\"No se encontró la carpeta 'provincias' dentro de {base_dir}.\")\n",
    "\n",
    "output_dir = \"Data/data_Galicia/estaciones_meteorologicas_completa\"\n",
    "os.makedirs(output_dir, exist_ok=True)\n",
    "\n",
    "tipos_datos = ['humedad_foliar', 'humedad_relativa', 'humedad_suelo', 'precipitacion', 'temperatura_suelo', 'viento']\n",
    "\n",
    "estaciones_procesadas = 0\n",
    "provincias_procesadas = 0\n",
    "\n",
    "for provincia in tqdm(os.listdir(provincias_dir), desc='Provincias'):\n",
    "    provincia_path = os.path.join(provincias_dir, provincia)\n",
    "    estaciones_path = os.path.join(provincia_path, 'estaciones_meteorologicas')\n",
    "    if os.path.isdir(estaciones_path):\n",
    "        provincias_procesadas += 1\n",
    "        for estacion in tqdm(os.listdir(estaciones_path), desc=f'Estaciones en {provincia}', leave=False):\n",
    "            estacion_path = os.path.join(estaciones_path, estacion)\n",
    "            if os.path.isdir(estacion_path):\n",
    "                dfs = {}\n",
    "                for tipo_dato in tipos_datos:\n",
    "                    tipo_dato_path = os.path.join(estacion_path, tipo_dato)\n",
    "                    if os.path.isdir(tipo_dato_path):\n",
    "                        archivos = [f for f in os.listdir(tipo_dato_path) if f.endswith('.csv')]\n",
    "                        df_temporal = pd.DataFrame()\n",
    "                        for archivo in archivos:\n",
    "                            archivo_path = os.path.join(tipo_dato_path, archivo)\n",
    "                            try:\n",
    "                                df_actual = pd.read_csv(archivo_path)\n",
    "                                df_temporal = pd.concat([df_temporal, df_actual], ignore_index=True)\n",
    "                            except Exception as e:\n",
    "                                print(f\"Error al leer el archivo {archivo}: {e}\")\n",
    "                        if not df_temporal.empty:\n",
    "                            clave = f\"{tipo_dato}\"\n",
    "                            dfs[clave] = df_temporal\n",
    "                if dfs:\n",
    "                    df_combinado = pd.concat(dfs.values(), axis=1)\n",
    "                    df_combinado = df_combinado.loc[:,~df_combinado.columns.duplicated()]\n",
    "                    output_filename = f\"{estacion}_combinado.csv\"\n",
    "                    df_combinado.to_csv(os.path.join(output_dir, output_filename), index=False)\n",
    "                    estaciones_procesadas += 1\n",
    "                else:\n",
    "                    print(f\"No se encontraron archivos para la estación {estacion} en la provincia {provincia}.\")\n",
    "\n",
    "print(f\"Proceso completado. Número total de provincias procesadas: {provincias_procesadas}.\")\n",
    "print(f\"Número total de estaciones meteorológicas procesadas: {estaciones_procesadas}.\")\n"
   ]
  },
  {
   "cell_type": "code",
   "execution_count": null,
   "id": "5a6451e0-b562-400d-b27c-9b866eb88357",
   "metadata": {},
   "outputs": [],
   "source": []
  },
  {
   "cell_type": "markdown",
   "id": "2fd1375b-4771-4535-ac59-14e336dafed1",
   "metadata": {},
   "source": [
    "----------------------------------------------------------------------------------------------------------------------------------------------------------------"
   ]
  },
  {
   "cell_type": "markdown",
   "id": "5cfc7f52-4807-47d4-bb60-0d300e3c49b6",
   "metadata": {},
   "source": [
    "Ordena las filas por fecha, las columnas, añade una columna de estación y revisa que no hay filas duplicadas de cada CSV para que muestre bien la información por fechas"
   ]
  },
  {
   "cell_type": "code",
   "execution_count": 136,
   "id": "f0ef7731-1e97-4571-9e89-1bde0a793bc6",
   "metadata": {
    "tags": []
   },
   "outputs": [
    {
     "name": "stdout",
     "output_type": "stream",
     "text": [
      "Total de archivos CSV encontrados: 16\n"
     ]
    },
    {
     "data": {
      "application/vnd.jupyter.widget-view+json": {
       "model_id": "490b68665cce42b08e9b44ad4323d72c",
       "version_major": 2,
       "version_minor": 0
      },
      "text/plain": [
       "Procesando archivos CSV:   0%|          | 0/16 [00:00<?, ?it/s]"
      ]
     },
     "metadata": {},
     "output_type": "display_data"
    },
    {
     "name": "stdout",
     "output_type": "stream",
     "text": [
      "Archivo O_Rosal_combinado.csv actualizado y guardado correctamente.\n",
      "Archivo Castrelo_de_Mino_combinado.csv actualizado y guardado correctamente.\n",
      "Archivo Val_do_Dubra_combinado.csv actualizado y guardado correctamente.\n",
      "Archivo Rios_combinado.csv actualizado y guardado correctamente.\n",
      "Archivo Mondoñedo_combinado.csv actualizado y guardado correctamente.\n",
      "Archivo Naron_combinado.csv actualizado y guardado correctamente.\n",
      "Archivo Antas_de_Ulla_combinado.csv actualizado y guardado correctamente.\n",
      "Archivo A_veiga_combinado.csv actualizado y guardado correctamente.\n",
      "Archivo Lalin_combinado.csv actualizado y guardado correctamente.\n",
      "Archivo Meis_combinado.csv actualizado y guardado correctamente.\n",
      "Archivo Calvos_de_randin_combinado.csv actualizado y guardado correctamente.\n",
      "Archivo Baleira_combinado.csv actualizado y guardado correctamente.\n",
      "Archivo Lousame_combinado.csv actualizado y guardado correctamente.\n",
      "Archivo Boiro_combinado.csv actualizado y guardado correctamente.\n",
      "Archivo Ponteareas_combinado.csv actualizado y guardado correctamente.\n",
      "Archivo Chantada_combinado.csv actualizado y guardado correctamente.\n"
     ]
    }
   ],
   "source": [
    "import pandas as pd\n",
    "import os\n",
    "from tqdm.auto import tqdm\n",
    "\n",
    "def procesar_csv(directorio, columna_fecha):\n",
    "    archivos_csv = [archivo for archivo in os.listdir(directorio) if archivo.endswith('.csv')]\n",
    "    total_archivos = len(archivos_csv)\n",
    "    print(f\"Total de archivos CSV encontrados: {total_archivos}\")\n",
    "\n",
    "    for archivo in tqdm(archivos_csv, desc='Procesando archivos CSV'):\n",
    "        ruta_completa = os.path.join(directorio, archivo)\n",
    "\n",
    "        try:\n",
    "            df = pd.read_csv(ruta_completa)\n",
    "        except Exception as e:\n",
    "            print(f\"Error al leer {archivo}: {e}\")\n",
    "            continue\n",
    "\n",
    "        if columna_fecha in df.columns:\n",
    "            try:\n",
    "                # Renombrar columna de fecha y convertir a formato datetime\n",
    "                df.rename(columns={columna_fecha: \"Fecha\"}, inplace=True)\n",
    "                df['Fecha'] = pd.to_datetime(df['Fecha'])\n",
    "                df.sort_values(by='Fecha', inplace=True)\n",
    "                df.drop_duplicates(inplace=True)\n",
    "\n",
    "                # Agregar columna con el nombre de la estación\n",
    "                nombre_estacion = archivo.replace('_combinado.csv', '').replace('_', ' ')\n",
    "                df['Estacion'] = nombre_estacion\n",
    "\n",
    "                # Renombrar otras columnas\n",
    "                nombres_columnas = {\n",
    "                    \"Horas humidade foliar diaria\": \"Humedad foliar\",\n",
    "                    \"Humedad rel\": \"Humedad relativa\",\n",
    "                    \"Humidade relativa media a\\xa01.5m\": \"Humedad relativa\",\n",
    "                    \"Humidade do solo\": \"Humedad suelo\",\n",
    "                    \"Chuvia\": \"Precipitación\",\n",
    "                    \"Temperatura do solo a -0.1m\": \"Temperatura del suelo\",\n",
    "                    \"Velocidade do vento a 10m\": \"Viento\",\n",
    "                    \"Velocidade do vento a 2m\": \"Viento\"\n",
    "                }\n",
    "                df.rename(columns=nombres_columnas, inplace=True)\n",
    "                \n",
    "                # Fusión de columnas duplicadas si existen\n",
    "                if \"Humedad relativa.1\" in df.columns:\n",
    "                    df['Humedad relativa'] = df['Humedad relativa'].fillna(df['Humedad relativa.1'])\n",
    "                    df.drop(columns=['Humedad relativa.1'], inplace=True)\n",
    "\n",
    "            except Exception as e:\n",
    "                print(f\"Error al procesar {archivo}: {e}\")\n",
    "                continue\n",
    "\n",
    "            df.to_csv(ruta_completa, index=False)\n",
    "            print(f\"Archivo {archivo} actualizado y guardado correctamente.\")\n",
    "        else:\n",
    "            print(f\"La columna 'Fecha' no se encuentra en el archivo {archivo}.\")\n",
    "\n",
    "directorio_csv = \"Data/data_Galicia/estaciones_meteorologicas_completa\"\n",
    "\n",
    "procesar_csv(directorio_csv, \"Instante lectura\")\n"
   ]
  },
  {
   "cell_type": "markdown",
   "id": "842d93a1-8fd4-4db5-aa1b-c7dd3b1a088c",
   "metadata": {},
   "source": [
    "Hay archivos que a veces no hacen caso del cambio de la columna por lo que hay que cambiarlos a mano y este codigo se puede modificar si fuera necesario"
   ]
  },
  {
   "cell_type": "code",
   "execution_count": 137,
   "id": "5c01f803-81c6-480e-85e4-719cc394a2ff",
   "metadata": {
    "tags": []
   },
   "outputs": [
    {
     "name": "stdout",
     "output_type": "stream",
     "text": [
      "Total de archivos CSV para procesar: 16\n"
     ]
    },
    {
     "data": {
      "application/vnd.jupyter.widget-view+json": {
       "model_id": "22b9c64b6f3442f8bbbb61a5c03fff39",
       "version_major": 2,
       "version_minor": 0
      },
      "text/plain": [
       "Procesando archivos CSV:   0%|          | 0/16 [00:00<?, ?it/s]"
      ]
     },
     "metadata": {},
     "output_type": "display_data"
    },
    {
     "name": "stdout",
     "output_type": "stream",
     "text": [
      "Archivo O_Rosal_combinado.csv actualizado con nuevas columnas.\n",
      "Archivo Castrelo_de_Mino_combinado.csv actualizado con nuevas columnas.\n",
      "Archivo Val_do_Dubra_combinado.csv actualizado con nuevas columnas.\n",
      "Archivo Rios_combinado.csv actualizado con nuevas columnas.\n",
      "Archivo Mondoñedo_combinado.csv actualizado con nuevas columnas.\n",
      "Archivo Naron_combinado.csv actualizado con nuevas columnas.\n",
      "Archivo Antas_de_Ulla_combinado.csv actualizado con nuevas columnas.\n",
      "Archivo A_veiga_combinado.csv actualizado con nuevas columnas.\n",
      "Archivo Lalin_combinado.csv actualizado con nuevas columnas.\n",
      "Archivo Meis_combinado.csv actualizado con nuevas columnas.\n",
      "Archivo Calvos_de_randin_combinado.csv actualizado con nuevas columnas.\n",
      "Archivo Baleira_combinado.csv actualizado con nuevas columnas.\n",
      "Archivo Lousame_combinado.csv actualizado con nuevas columnas.\n",
      "Archivo Boiro_combinado.csv actualizado con nuevas columnas.\n",
      "Archivo Ponteareas_combinado.csv actualizado con nuevas columnas.\n",
      "Archivo Chantada_combinado.csv actualizado con nuevas columnas.\n"
     ]
    }
   ],
   "source": [
    "import pandas as pd\n",
    "import os\n",
    "from tqdm.auto import tqdm\n",
    "\n",
    "def renombrar_y_combinar_columnas_csv(directorio, nombres_columnas):\n",
    "    archivos_csv = [archivo for archivo in os.listdir(directorio) if archivo.endswith('.csv')]\n",
    "    total_archivos = len(archivos_csv)\n",
    "    print(f\"Total de archivos CSV para procesar: {total_archivos}\")\n",
    "\n",
    "    for archivo in tqdm(archivos_csv, desc='Procesando archivos CSV'):\n",
    "        ruta_completa = os.path.join(directorio, archivo)\n",
    "        \n",
    "        try:\n",
    "            df = pd.read_csv(ruta_completa)\n",
    "            # Renombrar columnas según el mapeo proporcionado\n",
    "            columnas_a_renombrar = {col: nombres_columnas[col] for col in nombres_columnas if col in df.columns}\n",
    "            if columnas_a_renombrar:\n",
    "                df.rename(columns=columnas_a_renombrar, inplace=True)\n",
    "            \n",
    "            # Combinar \"Humedad relativa\" y \"Humedad relativa.1\" si ambas existen\n",
    "            if \"Humedad relativa\" in df.columns and \"Humedad relativa.1\" in df.columns:\n",
    "                df['Humedad relativa'] = df['Humedad relativa'].fillna(df['Humedad relativa.1'])\n",
    "                df.drop(columns=['Humedad relativa.1'], inplace=True)\n",
    "\n",
    "            df.to_csv(ruta_completa, index=False)\n",
    "            print(f\"Archivo {archivo} actualizado con nuevas columnas.\")\n",
    "        except Exception as e:\n",
    "            print(f\"Error al leer y actualizar {archivo}: {e}\")\n",
    "\n",
    "directorio_csv = \"Data/data_Galicia/estaciones_meteorologicas_completa\"\n",
    "nombres_columnas = {\n",
    "    \"Humedad rel\": \"Humedad relativa\",\n",
    "    \"Velocidade do vento a 10m\": \"Viento\",\n",
    "    \"Humidade relativa media a\\xa01.5m\": \"Humedad relativa\"\n",
    "}\n",
    "\n",
    "renombrar_y_combinar_columnas_csv(directorio_csv, nombres_columnas)\n"
   ]
  },
  {
   "cell_type": "markdown",
   "id": "1d82848e-d8c9-479a-8028-08e9b1374f2b",
   "metadata": {
    "tags": []
   },
   "source": [
    "Concatenamos todos los CSV de las estaciones meteorologicas"
   ]
  },
  {
   "cell_type": "code",
   "execution_count": 138,
   "id": "bfba7bd6-db34-4c97-a146-c458c68ce4a7",
   "metadata": {
    "tags": []
   },
   "outputs": [
    {
     "name": "stdout",
     "output_type": "stream",
     "text": [
      "Total de archivos CSV para unir: 16\n"
     ]
    },
    {
     "data": {
      "application/vnd.jupyter.widget-view+json": {
       "model_id": "b69ee41ec3ee45d9a2c30e603d33f171",
       "version_major": 2,
       "version_minor": 0
      },
      "text/plain": [
       "Uniendo archivos CSV:   0%|          | 0/16 [00:00<?, ?it/s]"
      ]
     },
     "metadata": {},
     "output_type": "display_data"
    },
    {
     "name": "stdout",
     "output_type": "stream",
     "text": [
      "Archivo Data/data_Galicia/clima_estaciones.csv creado y ordenado por fecha con éxito.\n"
     ]
    }
   ],
   "source": [
    "import pandas as pd\n",
    "import os\n",
    "from tqdm.auto import tqdm\n",
    "\n",
    "def unir_csvs_en_uno(directorio, archivo_salida, columna_fecha):\n",
    "    archivos_csv = [archivo for archivo in os.listdir(directorio) if archivo.endswith('.csv')]\n",
    "    total_archivos = len(archivos_csv)\n",
    "    print(f\"Total de archivos CSV para unir: {total_archivos}\")\n",
    "\n",
    "    lista_dfs = []\n",
    "    for archivo in tqdm(archivos_csv, desc='Uniendo archivos CSV'):\n",
    "        ruta_completa = os.path.join(directorio, archivo)\n",
    "        try:\n",
    "            df = pd.read_csv(ruta_completa)\n",
    "            lista_dfs.append(df)\n",
    "        except Exception as e:\n",
    "            print(f\"Error al leer {archivo}: {e}\")\n",
    "\n",
    "    df_unido = pd.concat(lista_dfs, ignore_index=True)\n",
    "    # Convertir la columna de fecha y ordenar\n",
    "    df_unido[columna_fecha] = pd.to_datetime(df_unido[columna_fecha])\n",
    "    df_unido.sort_values(by=columna_fecha, inplace=True)\n",
    "    \n",
    "    df_unido.to_csv(archivo_salida, index=False)\n",
    "    print(f\"Archivo {archivo_salida} creado y ordenado por fecha con éxito.\")\n",
    "\n",
    "directorio_csv = \"Data/data_Galicia/estaciones_meteorologicas_completa\"\n",
    "archivo_salida = \"Data/data_Galicia/clima_estaciones.csv\"\n",
    "columna_fecha = \"Fecha\"  # Asegúrate de que este es el nombre correcto de la columna de fecha\n",
    "\n",
    "unir_csvs_en_uno(directorio_csv, archivo_salida, columna_fecha)\n"
   ]
  },
  {
   "cell_type": "code",
   "execution_count": 139,
   "id": "c37408cf-b17a-4122-8c62-f87e432b41a3",
   "metadata": {
    "tags": []
   },
   "outputs": [
    {
     "data": {
      "text/html": [
       "<div>\n",
       "<style scoped>\n",
       "    .dataframe tbody tr th:only-of-type {\n",
       "        vertical-align: middle;\n",
       "    }\n",
       "\n",
       "    .dataframe tbody tr th {\n",
       "        vertical-align: top;\n",
       "    }\n",
       "\n",
       "    .dataframe thead th {\n",
       "        text-align: right;\n",
       "    }\n",
       "</style>\n",
       "<table border=\"1\" class=\"dataframe\">\n",
       "  <thead>\n",
       "    <tr style=\"text-align: right;\">\n",
       "      <th></th>\n",
       "      <th>Humedad foliar</th>\n",
       "      <th>Humedad relativa</th>\n",
       "      <th>Humedad suelo</th>\n",
       "      <th>Precipitación</th>\n",
       "      <th>Temperatura del suelo</th>\n",
       "      <th>Viento</th>\n",
       "    </tr>\n",
       "  </thead>\n",
       "  <tbody>\n",
       "    <tr>\n",
       "      <th>count</th>\n",
       "      <td>93504.000000</td>\n",
       "      <td>93467.000000</td>\n",
       "      <td>92895.000000</td>\n",
       "      <td>93493.000000</td>\n",
       "      <td>93464.000000</td>\n",
       "      <td>93504.000000</td>\n",
       "    </tr>\n",
       "    <tr>\n",
       "      <th>mean</th>\n",
       "      <td>-754.357794</td>\n",
       "      <td>-543.599405</td>\n",
       "      <td>-1447.272526</td>\n",
       "      <td>-210.106051</td>\n",
       "      <td>-611.437097</td>\n",
       "      <td>-687.209863</td>\n",
       "    </tr>\n",
       "    <tr>\n",
       "      <th>std</th>\n",
       "      <td>2666.664812</td>\n",
       "      <td>2430.771129</td>\n",
       "      <td>3530.456778</td>\n",
       "      <td>1448.575568</td>\n",
       "      <td>2423.102461</td>\n",
       "      <td>2540.574696</td>\n",
       "    </tr>\n",
       "    <tr>\n",
       "      <th>min</th>\n",
       "      <td>-9999.000000</td>\n",
       "      <td>-9999.000000</td>\n",
       "      <td>-9999.000000</td>\n",
       "      <td>-9999.000000</td>\n",
       "      <td>-9999.000000</td>\n",
       "      <td>-9999.000000</td>\n",
       "    </tr>\n",
       "    <tr>\n",
       "      <th>25%</th>\n",
       "      <td>0.700000</td>\n",
       "      <td>71.000000</td>\n",
       "      <td>0.100000</td>\n",
       "      <td>0.000000</td>\n",
       "      <td>9.000000</td>\n",
       "      <td>3.000000</td>\n",
       "    </tr>\n",
       "    <tr>\n",
       "      <th>50%</th>\n",
       "      <td>8.400000</td>\n",
       "      <td>82.000000</td>\n",
       "      <td>0.200000</td>\n",
       "      <td>0.000000</td>\n",
       "      <td>13.100000</td>\n",
       "      <td>4.700000</td>\n",
       "    </tr>\n",
       "    <tr>\n",
       "      <th>75%</th>\n",
       "      <td>14.900000</td>\n",
       "      <td>90.000000</td>\n",
       "      <td>0.300000</td>\n",
       "      <td>3.000000</td>\n",
       "      <td>17.900000</td>\n",
       "      <td>7.200000</td>\n",
       "    </tr>\n",
       "    <tr>\n",
       "      <th>max</th>\n",
       "      <td>120.000000</td>\n",
       "      <td>100.000000</td>\n",
       "      <td>200.000000</td>\n",
       "      <td>3060.000000</td>\n",
       "      <td>31.100000</td>\n",
       "      <td>78.600000</td>\n",
       "    </tr>\n",
       "  </tbody>\n",
       "</table>\n",
       "</div>"
      ],
      "text/plain": [
       "       Humedad foliar  Humedad relativa  Humedad suelo  Precipitación  \\\n",
       "count    93504.000000      93467.000000   92895.000000   93493.000000   \n",
       "mean      -754.357794       -543.599405   -1447.272526    -210.106051   \n",
       "std       2666.664812       2430.771129    3530.456778    1448.575568   \n",
       "min      -9999.000000      -9999.000000   -9999.000000   -9999.000000   \n",
       "25%          0.700000         71.000000       0.100000       0.000000   \n",
       "50%          8.400000         82.000000       0.200000       0.000000   \n",
       "75%         14.900000         90.000000       0.300000       3.000000   \n",
       "max        120.000000        100.000000     200.000000    3060.000000   \n",
       "\n",
       "       Temperatura del suelo        Viento  \n",
       "count           93464.000000  93504.000000  \n",
       "mean             -611.437097   -687.209863  \n",
       "std              2423.102461   2540.574696  \n",
       "min             -9999.000000  -9999.000000  \n",
       "25%                 9.000000      3.000000  \n",
       "50%                13.100000      4.700000  \n",
       "75%                17.900000      7.200000  \n",
       "max                31.100000     78.600000  "
      ]
     },
     "execution_count": 139,
     "metadata": {},
     "output_type": "execute_result"
    }
   ],
   "source": [
    "import pandas as pd\n",
    "\n",
    "# Cargar el archivo combinado\n",
    "archivo_salida = \"Data/data_Galicia/clima_estaciones.csv\"\n",
    "df_unido = pd.read_csv(archivo_salida)\n",
    "\n",
    "# Estadísticas generales del DataFrame combinado\n",
    "estadisticas_generales = df_unido.describe()\n",
    "\n",
    "# Mostrar estadísticas generales como DataFrame\n",
    "estadisticas_generales_df = pd.DataFrame(estadisticas_generales)\n",
    "estadisticas_generales_df"
   ]
  },
  {
   "cell_type": "code",
   "execution_count": 140,
   "id": "651c3810-0472-441b-ab9f-b70e7c0aeb8d",
   "metadata": {
    "tags": []
   },
   "outputs": [
    {
     "data": {
      "text/html": [
       "<div>\n",
       "<style scoped>\n",
       "    .dataframe tbody tr th:only-of-type {\n",
       "        vertical-align: middle;\n",
       "    }\n",
       "\n",
       "    .dataframe tbody tr th {\n",
       "        vertical-align: top;\n",
       "    }\n",
       "\n",
       "    .dataframe thead th {\n",
       "        text-align: right;\n",
       "    }\n",
       "</style>\n",
       "<table border=\"1\" class=\"dataframe\">\n",
       "  <thead>\n",
       "    <tr style=\"text-align: right;\">\n",
       "      <th></th>\n",
       "      <th>Fecha</th>\n",
       "      <th>Humedad foliar</th>\n",
       "      <th>Humedad relativa</th>\n",
       "      <th>Humedad suelo</th>\n",
       "      <th>Precipitación</th>\n",
       "      <th>Temperatura del suelo</th>\n",
       "      <th>Viento</th>\n",
       "      <th>Estacion</th>\n",
       "    </tr>\n",
       "  </thead>\n",
       "  <tbody>\n",
       "    <tr>\n",
       "      <th>0</th>\n",
       "      <td>2008-01-01</td>\n",
       "      <td>109.0</td>\n",
       "      <td>98.0</td>\n",
       "      <td>0.4</td>\n",
       "      <td>117.4</td>\n",
       "      <td>11.9</td>\n",
       "      <td>4.4</td>\n",
       "      <td>O Rosal</td>\n",
       "    </tr>\n",
       "    <tr>\n",
       "      <th>1</th>\n",
       "      <td>2008-01-01</td>\n",
       "      <td>110.0</td>\n",
       "      <td>99.0</td>\n",
       "      <td>0.2</td>\n",
       "      <td>91.6</td>\n",
       "      <td>8.1</td>\n",
       "      <td>1.2</td>\n",
       "      <td>Castrelo de Mino</td>\n",
       "    </tr>\n",
       "    <tr>\n",
       "      <th>2</th>\n",
       "      <td>2008-01-01</td>\n",
       "      <td>107.0</td>\n",
       "      <td>85.0</td>\n",
       "      <td>0.4</td>\n",
       "      <td>14.6</td>\n",
       "      <td>8.1</td>\n",
       "      <td>21.6</td>\n",
       "      <td>Boiro</td>\n",
       "    </tr>\n",
       "    <tr>\n",
       "      <th>3</th>\n",
       "      <td>2008-01-01</td>\n",
       "      <td>86.0</td>\n",
       "      <td>90.0</td>\n",
       "      <td>-9999.0</td>\n",
       "      <td>18.8</td>\n",
       "      <td>10.1</td>\n",
       "      <td>9.3</td>\n",
       "      <td>Lousame</td>\n",
       "    </tr>\n",
       "    <tr>\n",
       "      <th>4</th>\n",
       "      <td>2008-01-01</td>\n",
       "      <td>80.0</td>\n",
       "      <td>91.0</td>\n",
       "      <td>0.5</td>\n",
       "      <td>0.3</td>\n",
       "      <td>-9999.0</td>\n",
       "      <td>25.1</td>\n",
       "      <td>Baleira</td>\n",
       "    </tr>\n",
       "    <tr>\n",
       "      <th>...</th>\n",
       "      <td>...</td>\n",
       "      <td>...</td>\n",
       "      <td>...</td>\n",
       "      <td>...</td>\n",
       "      <td>...</td>\n",
       "      <td>...</td>\n",
       "      <td>...</td>\n",
       "      <td>...</td>\n",
       "    </tr>\n",
       "    <tr>\n",
       "      <th>93499</th>\n",
       "      <td>2023-12-31</td>\n",
       "      <td>16.8</td>\n",
       "      <td>90.0</td>\n",
       "      <td>0.3</td>\n",
       "      <td>2.4</td>\n",
       "      <td>9.9</td>\n",
       "      <td>13.5</td>\n",
       "      <td>Val do Dubra</td>\n",
       "    </tr>\n",
       "    <tr>\n",
       "      <th>93500</th>\n",
       "      <td>2023-12-31</td>\n",
       "      <td>16.7</td>\n",
       "      <td>86.0</td>\n",
       "      <td>0.2</td>\n",
       "      <td>9.6</td>\n",
       "      <td>11.1</td>\n",
       "      <td>2.0</td>\n",
       "      <td>Castrelo de Mino</td>\n",
       "    </tr>\n",
       "    <tr>\n",
       "      <th>93501</th>\n",
       "      <td>2023-12-31</td>\n",
       "      <td>11.4</td>\n",
       "      <td>90.0</td>\n",
       "      <td>0.5</td>\n",
       "      <td>15.0</td>\n",
       "      <td>11.8</td>\n",
       "      <td>7.9</td>\n",
       "      <td>O Rosal</td>\n",
       "    </tr>\n",
       "    <tr>\n",
       "      <th>93502</th>\n",
       "      <td>2023-12-31</td>\n",
       "      <td>16.7</td>\n",
       "      <td>83.0</td>\n",
       "      <td>0.2</td>\n",
       "      <td>3.6</td>\n",
       "      <td>14.1</td>\n",
       "      <td>1.4</td>\n",
       "      <td>Ponteareas</td>\n",
       "    </tr>\n",
       "    <tr>\n",
       "      <th>93503</th>\n",
       "      <td>2023-12-31</td>\n",
       "      <td>12.2</td>\n",
       "      <td>90.0</td>\n",
       "      <td>34.3</td>\n",
       "      <td>0.0</td>\n",
       "      <td>10.1</td>\n",
       "      <td>1.7</td>\n",
       "      <td>Chantada</td>\n",
       "    </tr>\n",
       "  </tbody>\n",
       "</table>\n",
       "<p>93504 rows × 8 columns</p>\n",
       "</div>"
      ],
      "text/plain": [
       "            Fecha  Humedad foliar  Humedad relativa  Humedad suelo  \\\n",
       "0      2008-01-01           109.0              98.0            0.4   \n",
       "1      2008-01-01           110.0              99.0            0.2   \n",
       "2      2008-01-01           107.0              85.0            0.4   \n",
       "3      2008-01-01            86.0              90.0        -9999.0   \n",
       "4      2008-01-01            80.0              91.0            0.5   \n",
       "...           ...             ...               ...            ...   \n",
       "93499  2023-12-31            16.8              90.0            0.3   \n",
       "93500  2023-12-31            16.7              86.0            0.2   \n",
       "93501  2023-12-31            11.4              90.0            0.5   \n",
       "93502  2023-12-31            16.7              83.0            0.2   \n",
       "93503  2023-12-31            12.2              90.0           34.3   \n",
       "\n",
       "       Precipitación  Temperatura del suelo  Viento          Estacion  \n",
       "0              117.4                   11.9     4.4           O Rosal  \n",
       "1               91.6                    8.1     1.2  Castrelo de Mino  \n",
       "2               14.6                    8.1    21.6             Boiro  \n",
       "3               18.8                   10.1     9.3           Lousame  \n",
       "4                0.3                -9999.0    25.1           Baleira  \n",
       "...              ...                    ...     ...               ...  \n",
       "93499            2.4                    9.9    13.5      Val do Dubra  \n",
       "93500            9.6                   11.1     2.0  Castrelo de Mino  \n",
       "93501           15.0                   11.8     7.9           O Rosal  \n",
       "93502            3.6                   14.1     1.4        Ponteareas  \n",
       "93503            0.0                   10.1     1.7          Chantada  \n",
       "\n",
       "[93504 rows x 8 columns]"
      ]
     },
     "execution_count": 140,
     "metadata": {},
     "output_type": "execute_result"
    }
   ],
   "source": [
    "df_unido"
   ]
  },
  {
   "cell_type": "markdown",
   "id": "3bc41c72-92ed-44ba-9982-76a25ed54ca3",
   "metadata": {
    "tags": []
   },
   "source": [
    "Combinar tanto el dataset de Incendios localizados en Galicia con el de estaciónes meteorológicas de Galicia, para crear un único conjunto de datos"
   ]
  },
  {
   "cell_type": "code",
   "execution_count": 141,
   "id": "aafba892-150d-4543-87ef-ba9db0e93281",
   "metadata": {
    "tags": []
   },
   "outputs": [
    {
     "name": "stdout",
     "output_type": "stream",
     "text": [
      "Combinando datasets...\n",
      "Archivo combinado guardado en: Data/data_Galicia/galicia_inc.csv\n"
     ]
    }
   ],
   "source": [
    "import pandas as pd\n",
    "import unicodedata\n",
    "from tqdm.auto import tqdm\n",
    "\n",
    "def normalizar_texto(texto):\n",
    "    \"\"\"Normaliza cadenas de texto eliminando tildes y caracteres especiales.\"\"\"\n",
    "    return unicodedata.normalize('NFKD', texto).encode('ascii', 'ignore').decode('ascii').lower()\n",
    "\n",
    "def procesar_archivos(archivo_incendios, archivo_clima, archivo_salida):\n",
    "    # Cargar los datos\n",
    "    df_incendios = pd.read_csv(archivo_incendios)\n",
    "    df_clima = pd.read_csv(archivo_clima)\n",
    "\n",
    "    # Convertir las fechas a formato de fecha\n",
    "    df_incendios['acq_date'] = pd.to_datetime(df_incendios['acq_date'])\n",
    "    df_clima['Fecha'] = pd.to_datetime(df_clima['Fecha'])\n",
    "\n",
    "    # Normalizar nombres de estaciones\n",
    "    df_incendios['Estacion'] = df_incendios['Estacion'].apply(normalizar_texto)\n",
    "    df_clima['Estacion'] = df_clima['Estacion'].apply(normalizar_texto)\n",
    "\n",
    "    # Fusionar los datasets\n",
    "    print(\"Combinando datasets...\")\n",
    "    df_combinado = pd.merge(df_incendios, df_clima, left_on=['acq_date', 'Estacion'], right_on=['Fecha', 'Estacion'], how='left')\n",
    "\n",
    "    # Eliminar columnas redundantes y renombrar según sea necesario\n",
    "    df_combinado.drop(columns=['Fecha_y'], inplace=True, errors='ignore')\n",
    "    df_combinado.rename(columns={'Fecha_x': 'Fecha'}, inplace=True)\n",
    "\n",
    "    # Guardar el archivo combinado\n",
    "    df_combinado.to_csv(archivo_salida, index=False)\n",
    "    print(f\"Archivo combinado guardado en: {archivo_salida}\")\n",
    "\n",
    "# Rutas de los archivos\n",
    "archivo_incendios = 'Data/data_Galicia/Data_Fires_Galicia_Station.csv'\n",
    "archivo_clima = 'Data/data_Galicia/clima_estaciones.csv'\n",
    "archivo_salida = 'Data/data_Galicia/galicia_inc.csv'\n",
    "\n",
    "# Ejecutar la función\n",
    "procesar_archivos(archivo_incendios, archivo_clima, archivo_salida)\n"
   ]
  },
  {
   "cell_type": "markdown",
   "id": "2dc7cd49-7b23-42ce-96c6-e77e455c138b",
   "metadata": {
    "tags": []
   },
   "source": [
    "Busca posibles estaciones meteorologicas de las cuales exista algún error "
   ]
  },
  {
   "cell_type": "code",
   "execution_count": 142,
   "id": "3df11259-0339-44ca-97b1-55eea07902ef",
   "metadata": {
    "tags": []
   },
   "outputs": [
    {
     "name": "stdout",
     "output_type": "stream",
     "text": [
      "Empty DataFrame\n",
      "Columns: [Estaciones con Fecha Vacía]\n",
      "Index: []\n"
     ]
    }
   ],
   "source": [
    "import pandas as pd\n",
    "\n",
    "# Cargar el archivo\n",
    "archivo = 'Data/data_Galicia/galicia_inc.csv'  \n",
    "df = pd.read_csv(archivo)\n",
    "\n",
    "# Convertir la columna 'Fecha' a datetime y manejar valores NaN\n",
    "df['Fecha'] = pd.to_datetime(df['Fecha'], errors='coerce')\n",
    "\n",
    "# Encontrar estaciones únicas donde la fecha es NaT (Not a Time)\n",
    "estaciones_con_fecha_vacia = df[df['Fecha'].isna()]['Estacion'].unique()\n",
    "\n",
    "# Crear un DataFrame para mostrar las estaciones\n",
    "df_estaciones_con_fecha_vacia = pd.DataFrame(estaciones_con_fecha_vacia, columns=['Estaciones con Fecha Vacía'])\n",
    "print(df_estaciones_con_fecha_vacia)\n"
   ]
  },
  {
   "cell_type": "code",
   "execution_count": null,
   "id": "7c6abfe8-0f59-4229-a6c3-a4afcc2c8487",
   "metadata": {},
   "outputs": [],
   "source": []
  }
 ],
 "metadata": {
  "kernelspec": {
   "display_name": "Python 3 (ipykernel)",
   "language": "python",
   "name": "python3"
  },
  "language_info": {
   "codemirror_mode": {
    "name": "ipython",
    "version": 3
   },
   "file_extension": ".py",
   "mimetype": "text/x-python",
   "name": "python",
   "nbconvert_exporter": "python",
   "pygments_lexer": "ipython3",
   "version": "3.11.4"
  }
 },
 "nbformat": 4,
 "nbformat_minor": 5
}
